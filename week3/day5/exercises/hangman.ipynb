{
 "metadata": {
  "language_info": {
   "codemirror_mode": {
    "name": "ipython",
    "version": 3
   },
   "file_extension": ".py",
   "mimetype": "text/x-python",
   "name": "python",
   "nbconvert_exporter": "python",
   "pygments_lexer": "ipython3",
   "version": "3.8.3-final"
  },
  "orig_nbformat": 2,
  "kernelspec": {
   "name": "python38364bit72b7e1e7c27c457c8a05dd1f551b514d",
   "display_name": "Python 3.8.3 64-bit"
  }
 },
 "nbformat": 4,
 "nbformat_minor": 2,
 "cells": [
  {
   "cell_type": "code",
   "execution_count": 5,
   "metadata": {},
   "outputs": [],
   "source": [
    "# Hangman\n",
    "\n",
    "#palabra_hangman = input()\n",
    "\n",
    "palabra_hangman = \"Gatillo\"\n",
    "\n",
    "\n",
    "num_errores = 0\n",
    "\n",
    "lista_aciertos = []"
   ]
  },
  {
   "cell_type": "code",
   "execution_count": 4,
   "metadata": {},
   "outputs": [
    {
     "output_type": "stream",
     "name": "stdout",
     "text": [
      "_ _ _ _ _ _ _ \n"
     ]
    }
   ],
   "source": [
    "tamano_palabra = len(palabra_hangman)\n",
    "tablero = \"_ \" * tamano_palabra\n",
    "print(tablero)"
   ]
  },
  {
   "cell_type": "code",
   "execution_count": null,
   "metadata": {},
   "outputs": [],
   "source": [
    "letra_insertada = input(\"Introduzca una letra:\")\n",
    "\n",
    "if letra_insertada in palabra_hangman:\n",
    "    \n",
    "    if letra_insertada in lista_aciertos:\n",
    "        print(\"Ya habías acertado esta letra\")\n",
    "    \n",
    "    else:\n",
    "        lista_aciertos.append(letra_insertada)\n",
    "        for pos, letra in enumerate(palabra_hangman):\n",
    "            \n",
    "\n",
    "else:\n",
    "    num_errores += 1\n",
    "    if num_errores == 7:\n",
    "        print(\"Has perdido crack\")"
   ]
  }
 ]
}