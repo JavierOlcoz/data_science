{
 "metadata": {
  "language_info": {
   "codemirror_mode": {
    "name": "ipython",
    "version": 3
   },
   "file_extension": ".py",
   "mimetype": "text/x-python",
   "name": "python",
   "nbconvert_exporter": "python",
   "pygments_lexer": "ipython3",
   "version": "3.8.3-final"
  },
  "orig_nbformat": 2,
  "kernelspec": {
   "name": "python38364bit72b7e1e7c27c457c8a05dd1f551b514d",
   "display_name": "Python 3.8.3 64-bit"
  }
 },
 "nbformat": 4,
 "nbformat_minor": 2,
 "cells": [
  {
   "source": [
    "# Classes -- OOP\n",
    "\n",
    "La programación Orientada a objetos se define como un paradigma de la programación, una manera de programar específica, donde se organiza el código en unidades denominadas clases, de las cuales se crean objetos que se relacionan entre sí para conseguir los objetivos de las aplicaciones.\n",
    "\n",
    "La programación Orientada a objetos (POO) es una forma especial de programar, más cercana a como expresaríamos las cosas en la vida real que otros tipos de programación."
   ],
   "cell_type": "markdown",
   "metadata": {}
  },
  {
   "cell_type": "code",
   "execution_count": 2,
   "metadata": {},
   "outputs": [
    {
     "output_type": "stream",
     "name": "stdout",
     "text": [
      "2\nJuan\n"
     ]
    }
   ],
   "source": [
    "\"\"\"\n",
    "Creación de la clase ser humano\n",
    "\"\"\"\n",
    "class Humano:\n",
    "    ojos = 2\n",
    "    piernas = 2\n",
    "    nombre = None\n",
    "    edad = None\n",
    "\n",
    "juan = Humano()\n",
    "print(juan.ojos)\n",
    "juan.nombre = \"Juan\"\n",
    "print(juan.nombre)"
   ]
  },
  {
   "cell_type": "code",
   "execution_count": 4,
   "metadata": {},
   "outputs": [
    {
     "output_type": "stream",
     "name": "stdout",
     "text": [
      "2\n2\n"
     ]
    }
   ],
   "source": [
    "class Humano:\n",
    "\n",
    "    def __init__(self, o, nombre, brazos, pier, edad):\n",
    "        \"\"\" Este es el constructor de la función\n",
    "        \"\"\"\n",
    "        self.ojos = o # Diferenciar entre el rgumento y el atributo, los dos con el mismo nombre casi siempre\n",
    "        self.nombre = nombre\n",
    "        self.brazos = brazos\n",
    "        self.piernas = pier # he cambiado el nombre para ver la diferencia\n",
    "        self.edad = edad\n",
    "\n",
    "juan = Humano(o=2, nombre=\"Juan\", brazos=2, pier=2, edad=12)\n",
    "print(juan.ojos)\n",
    "pepe = Humano(o=1, nombre=\"Pepe\", brazos=1, pier=2, edad=23)\n",
    "print(pepe.piernas)"
   ]
  },
  {
   "cell_type": "code",
   "execution_count": 5,
   "metadata": {},
   "outputs": [
    {
     "output_type": "execute_result",
     "data": {
      "text/plain": [
       "False"
      ]
     },
     "metadata": {},
     "execution_count": 5
    }
   ],
   "source": [
    "juan == pepe"
   ]
  },
  {
   "cell_type": "code",
   "execution_count": 7,
   "metadata": {},
   "outputs": [
    {
     "output_type": "stream",
     "name": "stdout",
     "text": [
      "Feliz cumple: Rudolf\n"
     ]
    }
   ],
   "source": [
    "class Perro:\n",
    "\n",
    "    def __init__(self, patas, cola, raza, peso, edad, nombre):\n",
    "\n",
    "        self.patas = patas\n",
    "        self.cola = cola\n",
    "        self.raza = raza\n",
    "        self.peso = peso\n",
    "        self.edad = edad\n",
    "        self.nombre = nombre\n",
    "\n",
    "    def cumple_anos(self):\n",
    "        self.edad = self.edad + 1\n",
    "        print(\"Felicidades\")\n",
    "\n",
    "\n",
    "rudolf = Perro(patas=4, cola=True, raza=\"Pastor Alemán\", peso=25, edad=10, nombre=\"Rudolf\")\n",
    "\n",
    "rudolf.edad = rudolf.edad + 1\n",
    "print(\"Feliz cumple:\", rudolf.nombre)\n",
    "\n",
    "baxter = Perro(patas=4, cola=True, raza=\"Labrador\", peso=12, edad=3, nombre=\"Baxter\")\n"
   ]
  },
  {
   "cell_type": "code",
   "execution_count": 8,
   "metadata": {},
   "outputs": [
    {
     "output_type": "stream",
     "name": "stdout",
     "text": [
      "3\nFelicidades\n4\n"
     ]
    }
   ],
   "source": [
    "print(baxter.edad)\n",
    "baxter.cumple_anos()\n",
    "print(baxter.edad)"
   ]
  },
  {
   "cell_type": "code",
   "execution_count": 9,
   "metadata": {},
   "outputs": [
    {
     "output_type": "stream",
     "name": "stdout",
     "text": [
      "<__main__.Humano object at 0x0000012FADCE3C40>\n"
     ]
    }
   ],
   "source": [
    "mc = Humano(o=2, nombre=\"MC\", brazos=2, pier=2, edad=51)\n",
    "print(mc)"
   ]
  },
  {
   "source": [
    "### PELEA"
   ],
   "cell_type": "markdown",
   "metadata": {}
  },
  {
   "cell_type": "code",
   "execution_count": 27,
   "metadata": {},
   "outputs": [],
   "source": [
    "class Humano:\n",
    "\n",
    "    def __init__(self, vida, fuerza, armadura, n_dientes, esta_vivo=True):\n",
    "\n",
    "        self.vida = vida\n",
    "        self.fuerza = fuerza\n",
    "        self.armadura = armadura\n",
    "        self.n_dientes = n_dientes\n",
    "        self.esta_vivo = esta_vivo\n",
    "    \n",
    "    def atacar(self, troll):\n",
    "        vida_antigua = troll.vida\n",
    "        troll.vida = troll.vida - (self.fuerza - troll.armadura)\n",
    "        print(\"Vida troll=\", vida_antigua, \"-->\", troll.vida)\n",
    "        if troll.vida <= 0:\n",
    "            troll.esta_vivo = False\n",
    "\n",
    "class Troll:\n",
    "\n",
    "    \n",
    "    def __init__(self, vida, fuerza, armadura, n_dientes, esta_vivo=True):\n",
    "\n",
    "        self.vida = vida\n",
    "        self.fuerza = fuerza\n",
    "        self.armadura = armadura\n",
    "        self.n_dientes = n_dientes\n",
    "        self.esta_vivo = esta_vivo\n",
    "\n",
    "    def atacar(self, leo):\n",
    "        vida_antigua1 = leo.vida\n",
    "        leo.vida = leo.vida - (self.fuerza - leo.armadura)\n",
    "        print(\"Vida Humano=\", vida_antigua1, \"-->\", leo.vida)\n",
    "        if leo.vida <= 0:\n",
    "            leo.esta_vivo = False"
   ]
  },
  {
   "cell_type": "code",
   "execution_count": 28,
   "metadata": {},
   "outputs": [],
   "source": [
    "leo = Humano(vida=100, fuerza=5, armadura=3, n_dientes=27)\n",
    "\n",
    "troll = Troll(vida=100, fuerza=8, armadura=1, n_dientes=42)"
   ]
  },
  {
   "cell_type": "code",
   "execution_count": 36,
   "metadata": {},
   "outputs": [
    {
     "output_type": "stream",
     "name": "stdout",
     "text": [
      "Vida troll= 100 --> 96\nVida Humano= 100 --> 95\n--------------\nVida troll= 96 --> 92\nVida Humano= 95 --> 90\n--------------\nVida troll= 92 --> 88\nVida Humano= 90 --> 85\n--------------\nVida troll= 88 --> 84\nVida Humano= 85 --> 80\n--------------\nVida troll= 84 --> 80\nVida Humano= 80 --> 75\n--------------\nVida troll= 80 --> 76\nVida Humano= 75 --> 70\n--------------\nVida troll= 76 --> 72\nVida Humano= 70 --> 65\n--------------\nVida troll= 72 --> 68\nVida Humano= 65 --> 60\n--------------\nVida troll= 68 --> 64\nVida Humano= 60 --> 55\n--------------\nVida troll= 64 --> 60\nVida Humano= 55 --> 50\n--------------\nVida troll= 60 --> 56\nVida Humano= 50 --> 45\n--------------\nVida troll= 56 --> 52\nVida Humano= 45 --> 40\n--------------\nVida troll= 52 --> 48\nVida Humano= 40 --> 35\n--------------\nVida troll= 48 --> 44\nVida Humano= 35 --> 30\n--------------\nVida troll= 44 --> 40\nVida Humano= 30 --> 25\n--------------\nVida troll= 40 --> 36\nVida Humano= 25 --> 20\n--------------\nVida troll= 36 --> 32\nVida Humano= 20 --> 15\n--------------\nVida troll= 32 --> 28\nVida Humano= 15 --> 10\n--------------\nVida troll= 28 --> 24\nVida Humano= 10 --> 5\n--------------\nVida troll= 24 --> 20\nVida Humano= 5 --> 0\ntroll ganó\n"
     ]
    }
   ],
   "source": [
    "leo = Humano(vida=100, fuerza=5, armadura=3, n_dientes=27)\n",
    "\n",
    "troll = Troll(vida=100, fuerza=8, armadura=1, n_dientes=42)\n",
    "\n",
    "def empezar_pelea(leo,troll):\n",
    "    while True:\n",
    "        leo.atacar(troll=troll)\n",
    "        troll.atacar(leo=leo)\n",
    "        if leo.esta_vivo == False:\n",
    "            print(\"troll ganó\")\n",
    "            break\n",
    "        elif troll.esta_vivo == False:\n",
    "            print(\"humano ganó\")\n",
    "            break\n",
    "        print(\"--------------\")\n",
    "\n",
    "empezar_pelea(leo=leo, troll=troll)\n",
    "\n"
   ]
  },
  {
   "cell_type": "code",
   "execution_count": 1,
   "metadata": {},
   "outputs": [
    {
     "output_type": "execute_result",
     "data": {
      "text/plain": [
       "bool"
      ]
     },
     "metadata": {},
     "execution_count": 1
    }
   ],
   "source": [
    "type(True)"
   ]
  },
  {
   "cell_type": "code",
   "execution_count": null,
   "metadata": {},
   "outputs": [],
   "source": []
  }
 ]
}