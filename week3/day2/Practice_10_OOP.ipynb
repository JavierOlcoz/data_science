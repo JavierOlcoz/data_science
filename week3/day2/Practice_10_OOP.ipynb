{
 "cells": [
  {
   "cell_type": "markdown",
   "metadata": {},
   "source": [
    "# Python | day 11 | object oriented programming"
   ]
  },
  {
   "cell_type": "markdown",
   "metadata": {},
   "source": [
    "#### ¡Practice what you already know and keep learning!"
   ]
  },
  {
   "cell_type": "markdown",
   "metadata": {},
   "source": [
    "![\"con_clase\"](https://cdn.ttgtmedia.com/rms/onlineimages/whatis-object_oriented_programming_half_column_mobile.png)"
   ]
  },
  {
   "cell_type": "markdown",
   "metadata": {},
   "source": [
    "https://realpython.com/python3-object-oriented-programming/"
   ]
  },
  {
   "cell_type": "markdown",
   "metadata": {},
   "source": [
    "## Exercise 1. "
   ]
  },
  {
   "cell_type": "markdown",
   "metadata": {},
   "source": [
    "A friend of yours have asked you to define a class so they can use it at the Natural History Museum in London in order to describe dinosaurs. \n",
    "\n",
    "Since you have no idea about dinosaurs he has given you a couple of instructions:\n",
    "\n",
    "   - Dinosaurs have four attributes all along the whole kind:\n",
    "        - They all have teeth, although every one of them have a different number of those\n",
    "        - Special skills which will be an empty list \n",
    "        - He finds interesting to specify if they are dangerous with a boolean, he also told you to set it False since usually they are very nice \n",
    "        - All of them have an only head\n",
    "        \n",
    "        \n",
    "   - Define also a couple of methods:\n",
    "   \n",
    "       - `many_teeth` --> number of teeth gives you a clue of how old the dinosaurs are, that's why it could be interesting to be able to change the number of teeth they have.\n",
    "       - `add_skill` --> this method add skills to each dinosaurs instance. \n",
    "       - `is_dangerous` --> not all of the dinosaurs are nice, some of them are a little bit dangerous and could attacks you, with this method you should be able to change the boolean set. Make sure, using `if`, the argument is always a boolean, if not print something like \"Remember you should give a boolean, True or False?\"\n"
   ]
  },
  {
   "cell_type": "code",
   "execution_count": 123,
   "metadata": {},
   "outputs": [],
   "source": [
    "# define a class Dinosaur\n",
    "class Dinosaur:\n",
    "\n",
    "    def __init__(self, teeth, special_skills=[], dangerous=False, head=1):\n",
    "        self.teeth = teeth\n",
    "        self.special_skills = special_skills\n",
    "        self.dangerous = dangerous\n",
    "        self.head = head\n",
    "\n",
    "    def many_teeth(self, x):\n",
    "        self.teeth = x\n",
    "        print(\"Now, the teeth are\")\n",
    "        return self.teeth\n",
    "\n",
    "    def add_skill(self, y):\n",
    "        self.special_skills.append(y)\n",
    "        return self.special_skills\n",
    "\n",
    "    def is_dangerous(self, z):\n",
    "        if type(z) != bool:   \n",
    "            return \"Remember you should give a boolean, True or Flase?\"\n",
    "        if type(z) == bool:\n",
    "            tyrannosaurus.dangerous = z\n",
    "            print(\"is the dinosaur dangerous?\", z)\n",
    "            return z\n",
    "    "
   ]
  },
  {
   "cell_type": "markdown",
   "metadata": {},
   "source": [
    "Once you have the class Dinosaur and its methods defined, create an instance **tyrannosaurus**. Your friend has told you that Tyrannosaurus rex had 50 to 60 solid cone-shaped teeth as big as bananas. Set the number of teeth as 60 since you will have the opportunity of changing it later using the method `many_teeth`. "
   ]
  },
  {
   "cell_type": "code",
   "execution_count": 124,
   "metadata": {},
   "outputs": [],
   "source": [
    "# create an Tyrannosaurus rex with 60 teeth\n",
    "tyrannosaurus = Dinosaur(teeth=60)"
   ]
  },
  {
   "cell_type": "markdown",
   "metadata": {},
   "source": [
    "Tyrannosaurus rex are the most dangerous dinosaurs so please, use the method `is_dangerous` with the argument \"yes, it is dangerous\", to set this up. It should return a message telling you to give a boolean, True or False, instead of the string you used as argument. "
   ]
  },
  {
   "cell_type": "code",
   "execution_count": 125,
   "metadata": {},
   "outputs": [
    {
     "output_type": "execute_result",
     "data": {
      "text/plain": [
       "'Remember you should give a boolean, True or Flase?'"
      ]
     },
     "metadata": {},
     "execution_count": 125
    }
   ],
   "source": [
    "# call is_dangerous method saying \"yes, it is dangerous\"\n",
    "tyrannosaurus.is_dangerous(z=\"yes, it is dangerous\")"
   ]
  },
  {
   "cell_type": "markdown",
   "metadata": {},
   "source": [
    "Good try! But you need to set this with a boolean. Since tyrannosaurus rex are dangerous give True as an argument to the method `is_dangerous`."
   ]
  },
  {
   "cell_type": "code",
   "execution_count": 126,
   "metadata": {},
   "outputs": [
    {
     "output_type": "stream",
     "name": "stdout",
     "text": [
      "is the dinosaur dangerous? True\n"
     ]
    },
    {
     "output_type": "execute_result",
     "data": {
      "text/plain": [
       "True"
      ]
     },
     "metadata": {},
     "execution_count": 126
    }
   ],
   "source": [
    "# call is_dangerous method with True as an argument\n",
    "tyrannosaurus.is_dangerous(z=True)"
   ]
  },
  {
   "cell_type": "markdown",
   "metadata": {},
   "source": [
    "Set \"lethality\" as an special skill of the tyrannosaurus rex using the `add_skill` method. "
   ]
  },
  {
   "cell_type": "code",
   "execution_count": 127,
   "metadata": {},
   "outputs": [
    {
     "output_type": "execute_result",
     "data": {
      "text/plain": [
       "['lethality']"
      ]
     },
     "metadata": {},
     "execution_count": 127
    }
   ],
   "source": [
    "# give lethality as an argument to the method add_skill\n",
    "tyrannosaurus.add_skill(y=\"lethality\")"
   ]
  },
  {
   "cell_type": "markdown",
   "metadata": {},
   "source": [
    "Show its `special_skill` to make sure you add the skill as expected."
   ]
  },
  {
   "cell_type": "code",
   "execution_count": 128,
   "metadata": {},
   "outputs": [
    {
     "output_type": "execute_result",
     "data": {
      "text/plain": [
       "['lethality']"
      ]
     },
     "metadata": {},
     "execution_count": 128
    }
   ],
   "source": [
    "# show its special_skill \n",
    "tyrannosaurus.special_skills"
   ]
  },
  {
   "cell_type": "markdown",
   "metadata": {},
   "source": [
    "If you could add \"lethality\" to the tyrannosaurus special skills, let's try now adding \"strength\"."
   ]
  },
  {
   "cell_type": "code",
   "execution_count": 129,
   "metadata": {},
   "outputs": [
    {
     "output_type": "execute_result",
     "data": {
      "text/plain": [
       "['lethality', 'strenght']"
      ]
     },
     "metadata": {},
     "execution_count": 129
    }
   ],
   "source": [
    "# add strength to the list of special_skill\n",
    "tyrannosaurus.add_skill(y=\"strenght\")"
   ]
  },
  {
   "cell_type": "markdown",
   "metadata": {},
   "source": [
    "Now, you know a lot about tyrannosaurus rex and found out the most of them lose some teeth due to their diet during their life, so 50 teeth should be more realistic. Use `many_teeth` method. "
   ]
  },
  {
   "cell_type": "code",
   "execution_count": 130,
   "metadata": {},
   "outputs": [
    {
     "output_type": "stream",
     "name": "stdout",
     "text": [
      "Now, the teeth are\n"
     ]
    },
    {
     "output_type": "execute_result",
     "data": {
      "text/plain": [
       "50"
      ]
     },
     "metadata": {},
     "execution_count": 130
    }
   ],
   "source": [
    "# set 50 teeth as the number of teeth\n",
    "tyrannosaurus.many_teeth(50)"
   ]
  },
  {
   "cell_type": "markdown",
   "metadata": {},
   "source": [
    "Show the tyrannosaurus rex's attributes defining a dictionary called `tyrannosaurus_data`. The keys should be the attributes: `teeth`, `danger`, `head`, `special_skill`, and the values those given to the attributes during the exercise.\n",
    "\n",
    "*Hint: You could solve this exercise using a function. Try google.* "
   ]
  },
  {
   "cell_type": "code",
   "execution_count": 131,
   "metadata": {},
   "outputs": [
    {
     "output_type": "stream",
     "name": "stdout",
     "text": [
      "{'teeth': 50, 'danger': True, 'head': 1, 'special_skill': ['lethality', 'strenght']}\n"
     ]
    }
   ],
   "source": [
    "# create the tyrannosaurus_data dictionary\n",
    "tyrannosaurus_data = {}\n",
    "tyrannosaurus_data[\"teeth\"] = tyrannosaurus.teeth\n",
    "tyrannosaurus_data[\"danger\"] = tyrannosaurus.dangerous\n",
    "tyrannosaurus_data[\"head\"] = tyrannosaurus.head\n",
    "tyrannosaurus_data[\"special_skill\"] = tyrannosaurus.special_skills\n",
    "print(tyrannosaurus_data)"
   ]
  },
  {
   "cell_type": "markdown",
   "metadata": {},
   "source": [
    "### Bonus\n",
    "\n",
    "Try to define a function named `if_danger` which check if **Dinosaur** is dangerous and if it is, then return something like \"RUN FOR YOUR LIFE, THIS GUY IS HUNGRY AND EAT PEOPLE\", in case the dinosaur isn't dangerous return \"all good, nothing to fear\".\n",
    "\n",
    "Call the function using as an argument the attribute `danger` of the **tyrannosaurus**."
   ]
  },
  {
   "cell_type": "code",
   "execution_count": 132,
   "metadata": {},
   "outputs": [],
   "source": [
    "# define if_danger with one parameter\n",
    "def if_danger(x):\n",
    "    if x == True:\n",
    "        return \"Gandalf hanging from the cliff-'FLY YOU FOOLS!'\"\n",
    "    elif x == False:\n",
    "        return \"Another happy day in Jurassic Park\""
   ]
  },
  {
   "cell_type": "code",
   "execution_count": 133,
   "metadata": {},
   "outputs": [
    {
     "output_type": "execute_result",
     "data": {
      "text/plain": [
       "\"Gandalf hanging from the cliff-'FLY YOU FOOLS!'\""
      ]
     },
     "metadata": {},
     "execution_count": 133
    }
   ],
   "source": [
    "# invoked the if_danger function\n",
    "\n",
    "if_danger(x=tyrannosaurus.dangerous)"
   ]
  },
  {
   "cell_type": "markdown",
   "metadata": {},
   "source": [
    "## Exercise 2. "
   ]
  },
  {
   "cell_type": "markdown",
   "metadata": {},
   "source": [
    "A company is opening a bank, but the coder who is designing the user class made some errors. They need you to help them.\n",
    "\n",
    "You must include the following:\n",
    "\n",
    "**A withdraw method**\n",
    "- Subtracts money from balance\n",
    "- One parameter, money to withdraw\n",
    "- Raise ValueError if there isn't enough money to withdraw\n",
    "- Return a string with name and balence(see examples)\n",
    "\n",
    "**A check method**\n",
    "- Adds money to baleance\n",
    "- Two parameters, other user and money\n",
    "- Other user will always be valid\n",
    "- Raise a ValueError if other user doesn't have enough money\n",
    "- Raise a ValueError if checking_account isn't true for other user\n",
    "- Return a string with name and balance plus other name and other balance(see examples)\n",
    "\n",
    "**An add_cash method**\n",
    "- Adds money to balance\n",
    "- One parameter, money to add\n",
    "- Return a string with name and balance(see examples)\n",
    "\n",
    "**Additional Notes:**\n",
    "\n",
    "- Checking_account should be stored as a boolean\n",
    "- No input numbers will be negitive\n",
    "- Output must end with period\n",
    "- Float numbers will not be used so, balance should be integer\n",
    "- No currency will be used"
   ]
  },
  {
   "cell_type": "markdown",
   "metadata": {},
   "source": [
    "KATA --> https://www.codewars.com/kata/5a03af9606d5b65ff7000009"
   ]
  },
  {
   "cell_type": "markdown",
   "metadata": {},
   "source": [
    "**If you dare trying to solve this problem, you'll need this:** https://www.w3schools.com/python/gloss_python_raise.asp"
   ]
  },
  {
   "cell_type": "code",
   "execution_count": 134,
   "metadata": {},
   "outputs": [],
   "source": [
    "#your code here\n",
    "class User:\n",
    "    def __init__(self, name, money, checking_account):\n",
    "        self.name = name\n",
    "        self.money = money\n",
    "        self.checking_account = checking_account\n",
    "\n",
    "\n",
    "    def withdraw_method(self, money_to_withdraw):\n",
    "        \"\"\" withdraw method\n",
    "        \"\"\"\n",
    "\n",
    "        if self.money < money_to_withdraw:\n",
    "            raise ValueError (\"You can't withdraw that value.\")\n",
    "        else:\n",
    "            self.money = self.money - money_to_withdraw\n",
    "            return print(self.name, \"has\", self.money,\".\")\n",
    "\n",
    "    \n",
    "    def check_method(self, other_user, money_to_check):\n",
    "        \"\"\" check method\n",
    "        \"\"\"\n",
    "\n",
    "        if other_user.money < money_to_check:\n",
    "            raise ValueError (\"Insufficient money.\")\n",
    "\n",
    "        elif other_user.checking_account == False:\n",
    "            raise ValueError (\"Checking_account == False.\")\n",
    "\n",
    "        else:\n",
    "            other_user.money = other_user.money - money_to_check\n",
    "            self.money = self.money + money_to_check\n",
    "            return print(self.name, \"has\", self.money, \"and\", other_user.name, \"has\", other_user.money, \".\")\n",
    "\n",
    "\n",
    "    def add_cash_method(self, money_to_add):\n",
    "        \"\"\" Adds money to balance\n",
    "        \"\"\"\n",
    "        self.money = self.money + money_to_add\n",
    "        return print(self.name, \"has\", self.money, \".\")\n",
    "\n",
    "\n",
    "\n",
    "    \n",
    "\n",
    "    \n"
   ]
  },
  {
   "cell_type": "code",
   "execution_count": 135,
   "metadata": {},
   "outputs": [],
   "source": [
    "gabriel = User(name=\"Gabriel\", money=100, checking_account=True)\n",
    "clara = User(name=\"Clara\", money=80, checking_account=False)\n",
    "diomedes = User(name=\"Diomedes\", money=20, checking_account=True)\n"
   ]
  },
  {
   "source": [
    "### Voy a probar diferentes casos a ver si todo esta correcto, en todos escribo los 3 users de nuevo para que se vea con más claridad que funciona."
   ],
   "cell_type": "markdown",
   "metadata": {}
  },
  {
   "cell_type": "code",
   "execution_count": 136,
   "metadata": {},
   "outputs": [
    {
     "output_type": "stream",
     "name": "stdout",
     "text": [
      "Gabriel has 50 .\nClara has 65 .\n"
     ]
    },
    {
     "output_type": "error",
     "ename": "ValueError",
     "evalue": "You can't withdraw that value.",
     "traceback": [
      "\u001b[1;31m---------------------------------------------------------------------------\u001b[0m",
      "\u001b[1;31mValueError\u001b[0m                                Traceback (most recent call last)",
      "\u001b[1;32m<ipython-input-136-640a88b1111c>\u001b[0m in \u001b[0;36m<module>\u001b[1;34m\u001b[0m\n\u001b[0;32m      7\u001b[0m \u001b[0mgabriel\u001b[0m\u001b[1;33m.\u001b[0m\u001b[0mwithdraw_method\u001b[0m\u001b[1;33m(\u001b[0m\u001b[0mmoney_to_withdraw\u001b[0m\u001b[1;33m=\u001b[0m\u001b[1;36m50\u001b[0m\u001b[1;33m)\u001b[0m\u001b[1;33m\u001b[0m\u001b[1;33m\u001b[0m\u001b[0m\n\u001b[0;32m      8\u001b[0m \u001b[0mclara\u001b[0m\u001b[1;33m.\u001b[0m\u001b[0mwithdraw_method\u001b[0m\u001b[1;33m(\u001b[0m\u001b[0mmoney_to_withdraw\u001b[0m\u001b[1;33m=\u001b[0m\u001b[1;36m15\u001b[0m\u001b[1;33m)\u001b[0m\u001b[1;33m\u001b[0m\u001b[1;33m\u001b[0m\u001b[0m\n\u001b[1;32m----> 9\u001b[1;33m \u001b[0mdiomedes\u001b[0m\u001b[1;33m.\u001b[0m\u001b[0mwithdraw_method\u001b[0m\u001b[1;33m(\u001b[0m\u001b[0mmoney_to_withdraw\u001b[0m\u001b[1;33m=\u001b[0m\u001b[1;36m30\u001b[0m\u001b[1;33m)\u001b[0m\u001b[1;33m\u001b[0m\u001b[1;33m\u001b[0m\u001b[0m\n\u001b[0m",
      "\u001b[1;32m<ipython-input-134-6ba0e9ec45da>\u001b[0m in \u001b[0;36mwithdraw_method\u001b[1;34m(self, money_to_withdraw)\u001b[0m\n\u001b[0;32m     12\u001b[0m \u001b[1;33m\u001b[0m\u001b[0m\n\u001b[0;32m     13\u001b[0m         \u001b[1;32mif\u001b[0m \u001b[0mself\u001b[0m\u001b[1;33m.\u001b[0m\u001b[0mmoney\u001b[0m \u001b[1;33m<\u001b[0m \u001b[0mmoney_to_withdraw\u001b[0m\u001b[1;33m:\u001b[0m\u001b[1;33m\u001b[0m\u001b[1;33m\u001b[0m\u001b[0m\n\u001b[1;32m---> 14\u001b[1;33m             \u001b[1;32mraise\u001b[0m \u001b[0mValueError\u001b[0m \u001b[1;33m(\u001b[0m\u001b[1;34m\"You can't withdraw that value.\"\u001b[0m\u001b[1;33m)\u001b[0m\u001b[1;33m\u001b[0m\u001b[1;33m\u001b[0m\u001b[0m\n\u001b[0m\u001b[0;32m     15\u001b[0m         \u001b[1;32melse\u001b[0m\u001b[1;33m:\u001b[0m\u001b[1;33m\u001b[0m\u001b[1;33m\u001b[0m\u001b[0m\n\u001b[0;32m     16\u001b[0m             \u001b[0mself\u001b[0m\u001b[1;33m.\u001b[0m\u001b[0mmoney\u001b[0m \u001b[1;33m=\u001b[0m \u001b[0mself\u001b[0m\u001b[1;33m.\u001b[0m\u001b[0mmoney\u001b[0m \u001b[1;33m-\u001b[0m \u001b[0mmoney_to_withdraw\u001b[0m\u001b[1;33m\u001b[0m\u001b[1;33m\u001b[0m\u001b[0m\n",
      "\u001b[1;31mValueError\u001b[0m: You can't withdraw that value."
     ]
    }
   ],
   "source": [
    "# Los tres sacando perras, diomedes no tiene suficiente.\n",
    "\n",
    "gabriel = User(name=\"Gabriel\", money=100, checking_account=True)\n",
    "clara = User(name=\"Clara\", money=80, checking_account=False)\n",
    "diomedes = User(name=\"Diomedes\", money=20, checking_account=True)\n",
    "\n",
    "gabriel.withdraw_method(money_to_withdraw=50)\n",
    "clara.withdraw_method(money_to_withdraw=15)\n",
    "diomedes.withdraw_method(money_to_withdraw=30)"
   ]
  },
  {
   "cell_type": "code",
   "execution_count": 120,
   "metadata": {},
   "outputs": [
    {
     "output_type": "error",
     "ename": "ValueError",
     "evalue": "Checking_account == False.",
     "traceback": [
      "\u001b[1;31m---------------------------------------------------------------------------\u001b[0m",
      "\u001b[1;31mValueError\u001b[0m                                Traceback (most recent call last)",
      "\u001b[1;32m<ipython-input-120-21d0144f3280>\u001b[0m in \u001b[0;36m<module>\u001b[1;34m\u001b[0m\n\u001b[0;32m      8\u001b[0m \u001b[1;31m# ValueError por checking_account == False\u001b[0m\u001b[1;33m\u001b[0m\u001b[1;33m\u001b[0m\u001b[1;33m\u001b[0m\u001b[0m\n\u001b[0;32m      9\u001b[0m \u001b[1;33m\u001b[0m\u001b[0m\n\u001b[1;32m---> 10\u001b[1;33m \u001b[0mgabriel\u001b[0m\u001b[1;33m.\u001b[0m\u001b[0mcheck_method\u001b[0m\u001b[1;33m(\u001b[0m\u001b[0mother_user\u001b[0m\u001b[1;33m=\u001b[0m\u001b[0mclara\u001b[0m\u001b[1;33m,\u001b[0m \u001b[0mmoney_to_check\u001b[0m\u001b[1;33m=\u001b[0m\u001b[1;36m20\u001b[0m\u001b[1;33m)\u001b[0m\u001b[1;33m\u001b[0m\u001b[1;33m\u001b[0m\u001b[0m\n\u001b[0m",
      "\u001b[1;32m<ipython-input-114-6ba0e9ec45da>\u001b[0m in \u001b[0;36mcheck_method\u001b[1;34m(self, other_user, money_to_check)\u001b[0m\n\u001b[0;32m     26\u001b[0m \u001b[1;33m\u001b[0m\u001b[0m\n\u001b[0;32m     27\u001b[0m         \u001b[1;32melif\u001b[0m \u001b[0mother_user\u001b[0m\u001b[1;33m.\u001b[0m\u001b[0mchecking_account\u001b[0m \u001b[1;33m==\u001b[0m \u001b[1;32mFalse\u001b[0m\u001b[1;33m:\u001b[0m\u001b[1;33m\u001b[0m\u001b[1;33m\u001b[0m\u001b[0m\n\u001b[1;32m---> 28\u001b[1;33m             \u001b[1;32mraise\u001b[0m \u001b[0mValueError\u001b[0m \u001b[1;33m(\u001b[0m\u001b[1;34m\"Checking_account == False.\"\u001b[0m\u001b[1;33m)\u001b[0m\u001b[1;33m\u001b[0m\u001b[1;33m\u001b[0m\u001b[0m\n\u001b[0m\u001b[0;32m     29\u001b[0m \u001b[1;33m\u001b[0m\u001b[0m\n\u001b[0;32m     30\u001b[0m         \u001b[1;32melse\u001b[0m\u001b[1;33m:\u001b[0m\u001b[1;33m\u001b[0m\u001b[1;33m\u001b[0m\u001b[0m\n",
      "\u001b[1;31mValueError\u001b[0m: Checking_account == False."
     ]
    }
   ],
   "source": [
    "# Probemos los distintos casos del check method:\n",
    "\n",
    "gabriel = User(name=\"Gabriel\", money=100, checking_account=True)\n",
    "clara = User(name=\"Clara\", money=80, checking_account=False)\n",
    "diomedes = User(name=\"Diomedes\", money=20, checking_account=True)\n",
    "\n",
    "\n",
    "# ValueError por checking_account == False\n",
    "\n",
    "gabriel.check_method(other_user=clara, money_to_check=20)\n"
   ]
  },
  {
   "cell_type": "code",
   "execution_count": 121,
   "metadata": {},
   "outputs": [
    {
     "output_type": "error",
     "ename": "ValueError",
     "evalue": "Insufficient money.",
     "traceback": [
      "\u001b[1;31m---------------------------------------------------------------------------\u001b[0m",
      "\u001b[1;31mValueError\u001b[0m                                Traceback (most recent call last)",
      "\u001b[1;32m<ipython-input-121-e41a1a87719e>\u001b[0m in \u001b[0;36m<module>\u001b[1;34m\u001b[0m\n\u001b[0;32m      1\u001b[0m \u001b[1;31m# ValueError por dinero insuficiente.\u001b[0m\u001b[1;33m\u001b[0m\u001b[1;33m\u001b[0m\u001b[1;33m\u001b[0m\u001b[0m\n\u001b[0;32m      2\u001b[0m \u001b[1;33m\u001b[0m\u001b[0m\n\u001b[1;32m----> 3\u001b[1;33m \u001b[0mgabriel\u001b[0m\u001b[1;33m.\u001b[0m\u001b[0mcheck_method\u001b[0m\u001b[1;33m(\u001b[0m\u001b[0mother_user\u001b[0m\u001b[1;33m=\u001b[0m\u001b[0mdiomedes\u001b[0m\u001b[1;33m,\u001b[0m \u001b[0mmoney_to_check\u001b[0m\u001b[1;33m=\u001b[0m\u001b[1;36m30\u001b[0m\u001b[1;33m)\u001b[0m\u001b[1;33m\u001b[0m\u001b[1;33m\u001b[0m\u001b[0m\n\u001b[0m",
      "\u001b[1;32m<ipython-input-114-6ba0e9ec45da>\u001b[0m in \u001b[0;36mcheck_method\u001b[1;34m(self, other_user, money_to_check)\u001b[0m\n\u001b[0;32m     23\u001b[0m \u001b[1;33m\u001b[0m\u001b[0m\n\u001b[0;32m     24\u001b[0m         \u001b[1;32mif\u001b[0m \u001b[0mother_user\u001b[0m\u001b[1;33m.\u001b[0m\u001b[0mmoney\u001b[0m \u001b[1;33m<\u001b[0m \u001b[0mmoney_to_check\u001b[0m\u001b[1;33m:\u001b[0m\u001b[1;33m\u001b[0m\u001b[1;33m\u001b[0m\u001b[0m\n\u001b[1;32m---> 25\u001b[1;33m             \u001b[1;32mraise\u001b[0m \u001b[0mValueError\u001b[0m \u001b[1;33m(\u001b[0m\u001b[1;34m\"Insufficient money.\"\u001b[0m\u001b[1;33m)\u001b[0m\u001b[1;33m\u001b[0m\u001b[1;33m\u001b[0m\u001b[0m\n\u001b[0m\u001b[0;32m     26\u001b[0m \u001b[1;33m\u001b[0m\u001b[0m\n\u001b[0;32m     27\u001b[0m         \u001b[1;32melif\u001b[0m \u001b[0mother_user\u001b[0m\u001b[1;33m.\u001b[0m\u001b[0mchecking_account\u001b[0m \u001b[1;33m==\u001b[0m \u001b[1;32mFalse\u001b[0m\u001b[1;33m:\u001b[0m\u001b[1;33m\u001b[0m\u001b[1;33m\u001b[0m\u001b[0m\n",
      "\u001b[1;31mValueError\u001b[0m: Insufficient money."
     ]
    }
   ],
   "source": [
    "# ValueError por dinero insuficiente.\n",
    "\n",
    "gabriel.check_method(other_user=diomedes, money_to_check=30)"
   ]
  },
  {
   "cell_type": "code",
   "execution_count": 119,
   "metadata": {},
   "outputs": [
    {
     "output_type": "stream",
     "name": "stdout",
     "text": [
      "Diomedes has 80 and Gabriel has 40 .\n"
     ]
    }
   ],
   "source": [
    "# Todo correcto, Gabriel paga a Diomedes 60 unidades de dinero.\n",
    "\n",
    "diomedes.check_method(other_user=gabriel, money_to_check=60)"
   ]
  },
  {
   "cell_type": "code",
   "execution_count": 138,
   "metadata": {},
   "outputs": [
    {
     "output_type": "stream",
     "name": "stdout",
     "text": [
      "Gabriel has 120 .\nClara has 100 .\nDiomedes has 20000000020 .\n"
     ]
    }
   ],
   "source": [
    "# Probamos el add_money\n",
    "\n",
    "gabriel = User(name=\"Gabriel\", money=100, checking_account=True)\n",
    "clara = User(name=\"Clara\", money=80, checking_account=False)\n",
    "diomedes = User(name=\"Diomedes\", money=20, checking_account=True)\n",
    "\n",
    "gabriel.add_cash_method(money_to_add=20)\n",
    "clara.add_cash_method(money_to_add=20)\n",
    "diomedes.add_cash_method(money_to_add=20000000000)"
   ]
  },
  {
   "source": [
    "# CONGRATULATIONS DIOMEDES, YOU ARE A MILLIONAIRE NOW!"
   ],
   "cell_type": "markdown",
   "metadata": {}
  },
  {
   "cell_type": "code",
   "execution_count": null,
   "metadata": {},
   "outputs": [],
   "source": []
  }
 ],
 "metadata": {
  "kernelspec": {
   "name": "python3",
   "display_name": "Python 3.8.3 64-bit",
   "metadata": {
    "interpreter": {
     "hash": "e922dd073470bdcc017ae3abd31d6491d6ed7bf31c1d559806e5511bfea88b81"
    }
   }
  },
  "language_info": {
   "codemirror_mode": {
    "name": "ipython",
    "version": 3
   },
   "file_extension": ".py",
   "mimetype": "text/x-python",
   "name": "python",
   "nbconvert_exporter": "python",
   "pygments_lexer": "ipython3",
   "version": "3.8.3-final"
  }
 },
 "nbformat": 4,
 "nbformat_minor": 4
}