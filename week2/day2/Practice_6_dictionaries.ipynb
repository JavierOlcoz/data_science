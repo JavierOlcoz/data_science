{
 "cells": [
  {
   "cell_type": "markdown",
   "metadata": {},
   "source": [
    "# Python | day 6 | dictionaries"
   ]
  },
  {
   "cell_type": "markdown",
   "metadata": {},
   "source": [
    "Dictionaries are used to store data values in key:value pairs.\n",
    "\n",
    "A dictionary is a collection which is unordered, changeable and does not allow duplicates.\n",
    "\n",
    "Dictionaries are written with curly brackets, and have keys and values:"
   ]
  },
  {
   "cell_type": "markdown",
   "metadata": {},
   "source": [
    "```python\n",
    "thisdict = {\n",
    "  \"brand\": \"Ford\",\n",
    "  \"model\": \"Mustang\",\n",
    "  \"year\": 1964\n",
    "}\n",
    "```"
   ]
  },
  {
   "cell_type": "markdown",
   "metadata": {},
   "source": [
    "https://www.w3schools.com/python/python_dictionaries.asp"
   ]
  },
  {
   "cell_type": "markdown",
   "metadata": {},
   "source": [
    "### Exercise 1. \n",
    "\n",
    "1. Create a dictionary with an integer 5 as the key and \"val\" as its value."
   ]
  },
  {
   "cell_type": "code",
   "execution_count": 2,
   "metadata": {},
   "outputs": [
    {
     "output_type": "stream",
     "name": "stdout",
     "text": [
      "{5: 'val'} <class 'dict'>\n"
     ]
    }
   ],
   "source": [
    "dic = {5:\"val\"}\n",
    "print(dic, type(dic))"
   ]
  },
  {
   "cell_type": "markdown",
   "metadata": {},
   "source": [
    "2. Create two lists: one that has 4 city names and another that has 4 landmarks in the city."
   ]
  },
  {
   "cell_type": "code",
   "execution_count": 3,
   "metadata": {},
   "outputs": [
    {
     "output_type": "stream",
     "name": "stdout",
     "text": [
      "['Leon', 'Madrid', 'Valladolid', 'Gijón']\n['catedral', 'Recoletos 15', 'La Antigua', 'teatro Jovellanos']\n"
     ]
    }
   ],
   "source": [
    "cities = [\"Leon\", \"Madrid\", \"Valladolid\", \"Gijón\"]\n",
    "landmarks = [\"catedral\", \"Recoletos 15\", \"La Antigua\", \"teatro Jovellanos\"]\n",
    "print(cities, landmarks, sep=\"\\n\")"
   ]
  },
  {
   "cell_type": "markdown",
   "metadata": {},
   "source": [
    "3. Create a dictionary where the cities contained in the first list are the **keys** and the landmarks are the **values**.\n",
    "```python\n",
    "#example\n",
    "places = {\"Malaga\": \"Gibralfaro\", \n",
    "         \"Madrid\": \"Templo de Debod\",\n",
    "         \"Granada\": \"La Alcazaba\",\n",
    "         \"Barcelona\": \"Sagrada Familia\"}\n",
    "```"
   ]
  },
  {
   "cell_type": "code",
   "execution_count": 4,
   "metadata": {},
   "outputs": [
    {
     "output_type": "execute_result",
     "data": {
      "text/plain": [
       "{'Leon': 'catedral',\n",
       " 'Madrid': 'Recoletos 15',\n",
       " 'Valladolid': 'La Antigua',\n",
       " 'Gijón': 'teatro Jovellanos'}"
      ]
     },
     "metadata": {},
     "execution_count": 4
    }
   ],
   "source": [
    "places = {cities[0]:landmarks[0], cities[1]:landmarks[1], cities[2]:landmarks[2], cities[3]:landmarks[3]}\n",
    "places\n"
   ]
  },
  {
   "cell_type": "markdown",
   "metadata": {},
   "source": [
    "4. Loop through the dictionary and print only the values of those keys starting with the letter **M**.\n",
    "\n",
    "https://realpython.com/iterate-through-dictionary-python/"
   ]
  },
  {
   "cell_type": "code",
   "execution_count": 19,
   "metadata": {},
   "outputs": [
    {
     "output_type": "stream",
     "name": "stdout",
     "text": [
      "key: Madrid valor:  Recoletos 15\n"
     ]
    }
   ],
   "source": [
    "for x,y in places.items():\n",
    "    if x[0] == \"M\":\n",
    "        print(\"key:\", x, \"valor: \", y)"
   ]
  },
  {
   "cell_type": "markdown",
   "metadata": {},
   "source": [
    "5. Create a function that receives two lists `list1` and `list2` by parameter and returns a dictionary with each element of `list1` as keys and the elements of `list2` as values. Call the function with the lists you have created before to return the same dictionary you've created in question 3. "
   ]
  },
  {
   "cell_type": "code",
   "execution_count": 6,
   "metadata": {},
   "outputs": [
    {
     "output_type": "execute_result",
     "data": {
      "text/plain": [
       "{'Leon': 'catedral',\n",
       " 'Madrid': 'Recoletos 15',\n",
       " 'Valladolid': 'La Antigua',\n",
       " 'Gijón': 'teatro Jovellanos'}"
      ]
     },
     "metadata": {},
     "execution_count": 6
    }
   ],
   "source": [
    "def final_dic(list1,list2):\n",
    "    \n",
    "    places1 = {list1[0]:list2[0], list1[1]:list2[1], list1[2]:list2[2], list1[3]:list2[3]}\n",
    "    \n",
    "    return places1\n",
    "\n",
    "final_dic(list1 = cities, list2 = landmarks)\n",
    "\n"
   ]
  },
  {
   "cell_type": "markdown",
   "metadata": {},
   "source": [
    "### Exercise 2. "
   ]
  },
  {
   "cell_type": "markdown",
   "metadata": {},
   "source": [
    "1. Create an empty dictionary called dog."
   ]
  },
  {
   "cell_type": "code",
   "execution_count": 7,
   "metadata": {},
   "outputs": [
    {
     "output_type": "execute_result",
     "data": {
      "text/plain": [
       "{}"
      ]
     },
     "metadata": {},
     "execution_count": 7
    }
   ],
   "source": [
    "dog = {}\n",
    "dog"
   ]
  },
  {
   "cell_type": "markdown",
   "metadata": {},
   "source": [
    "2. Add name, color, breed, legs, age to the dog dictionary."
   ]
  },
  {
   "cell_type": "code",
   "execution_count": 8,
   "metadata": {},
   "outputs": [
    {
     "output_type": "execute_result",
     "data": {
      "text/plain": [
       "{'name': 'Whisky', 'color': 'brown', 'breed': 'pug', 'legs': 4, 'age': 5}"
      ]
     },
     "metadata": {},
     "execution_count": 8
    }
   ],
   "source": [
    "dog = {}\n",
    "dog[\"name\"] = \"Whisky\"\n",
    "dog[\"color\"] = \"brown\"\n",
    "dog[\"breed\"] = \"pug\"\n",
    "dog[\"legs\"] = 4\n",
    "dog[\"age\"] = 5\n",
    "\n",
    "dog"
   ]
  },
  {
   "cell_type": "markdown",
   "metadata": {},
   "source": [
    "3. Create a student dictionary and add first_name, last_name, age, skills, country, city and address as keys for the dictionary.\n"
   ]
  },
  {
   "cell_type": "code",
   "execution_count": 9,
   "metadata": {},
   "outputs": [
    {
     "output_type": "stream",
     "name": "stdout",
     "text": [
      "{'first_name': 'Javier', 'last_name': 'Olcoz', 'age': 23, 'skills': ['friendly', 'kind'], 'country': 'Spain', 'city': 'León', 'address': ['Calle inventada', 12, '1D']}\n"
     ]
    }
   ],
   "source": [
    "student_dictionary = {}\n",
    "student_dictionary[\"first_name\"] = \"Javier\"\n",
    "student_dictionary[\"last_name\"] = \"Olcoz\"\n",
    "student_dictionary[\"age\"] = 23\n",
    "student_dictionary[\"skills\"] = [\"friendly\", \"kind\"]\n",
    "student_dictionary[\"country\"] = \"Spain\"\n",
    "student_dictionary[\"city\"] = \"León\"\n",
    "student_dictionary[\"address\"] = [\"Calle inventada\", 12, \"1D\"]\n",
    "print(student_dictionary)"
   ]
  },
  {
   "cell_type": "markdown",
   "metadata": {},
   "source": [
    "4. Get the length of the student dictionary.\n"
   ]
  },
  {
   "cell_type": "code",
   "execution_count": 10,
   "metadata": {},
   "outputs": [
    {
     "output_type": "execute_result",
     "data": {
      "text/plain": [
       "7"
      ]
     },
     "metadata": {},
     "execution_count": 10
    }
   ],
   "source": [
    "lenght = len(student_dictionary)\n",
    "lenght"
   ]
  },
  {
   "cell_type": "markdown",
   "metadata": {},
   "source": [
    "5. Get the value of skills and check the data type, it should be a list."
   ]
  },
  {
   "cell_type": "code",
   "execution_count": 11,
   "metadata": {},
   "outputs": [
    {
     "output_type": "stream",
     "name": "stdout",
     "text": [
      "['friendly', 'kind']\n<class 'list'>\n"
     ]
    }
   ],
   "source": [
    "for pos, (key,value) in enumerate(student_dictionary.items()):\n",
    "    if pos == 3:\n",
    "        print(value)\n",
    "        print(type(value))"
   ]
  },
  {
   "cell_type": "markdown",
   "metadata": {},
   "source": [
    "6. Modify the skills values by adding one or two skills."
   ]
  },
  {
   "cell_type": "code",
   "execution_count": 12,
   "metadata": {},
   "outputs": [
    {
     "output_type": "stream",
     "name": "stdout",
     "text": [
      "{'first_name': 'Javier', 'last_name': 'Olcoz', 'age': 23, 'skills': ['friendly', 'kind', 'smart', 'patient'], 'country': 'Spain', 'city': 'León', 'address': ['Calle inventada', 12, '1D']}\n"
     ]
    }
   ],
   "source": [
    "\n",
    "student_dictionary[\"skills\"].append(\"smart\")\n",
    "student_dictionary[\"skills\"].append(\"patient\")\n",
    "print(student_dictionary)"
   ]
  },
  {
   "cell_type": "markdown",
   "metadata": {},
   "source": [
    "7. Get the dictionary keys as a list."
   ]
  },
  {
   "cell_type": "code",
   "execution_count": 13,
   "metadata": {},
   "outputs": [
    {
     "output_type": "stream",
     "name": "stdout",
     "text": [
      "['first_name', 'last_name', 'age', 'skills', 'country', 'city', 'address']\n<class 'list'>\n"
     ]
    }
   ],
   "source": [
    "claves = []\n",
    "for key in student_dictionary.keys():\n",
    "    claves.append(key)\n",
    "print(claves, type(claves), sep=\"\\n\")\n"
   ]
  },
  {
   "cell_type": "markdown",
   "metadata": {},
   "source": [
    "8. Get the dictionary values as a list.\n"
   ]
  },
  {
   "cell_type": "code",
   "execution_count": 14,
   "metadata": {},
   "outputs": [
    {
     "output_type": "stream",
     "name": "stdout",
     "text": [
      "['Javier', 'Olcoz', 23, ['friendly', 'kind', 'smart', 'patient'], 'Spain', 'León', ['Calle inventada', 12, '1D']]\n<class 'list'>\n"
     ]
    }
   ],
   "source": [
    "valores = []\n",
    "for valuess in student_dictionary.values():\n",
    "    valores.append(valuess)\n",
    "print(valores, type(valores), sep=\"\\n\")\n"
   ]
  },
  {
   "cell_type": "markdown",
   "metadata": {},
   "source": [
    "9. Change the dictionary to a list of tuples using `items()` method"
   ]
  },
  {
   "cell_type": "code",
   "execution_count": 15,
   "metadata": {},
   "outputs": [
    {
     "output_type": "stream",
     "name": "stdout",
     "text": [
      "[('first_name', 'Javier'), ('last_name', 'Olcoz'), ('age', 23), ('skills', ['friendly', 'kind', 'smart', 'patient']), ('country', 'Spain'), ('city', 'León'), ('address', ['Calle inventada', 12, '1D'])]\n"
     ]
    }
   ],
   "source": [
    "dic_to_list = []\n",
    "\n",
    "for x, y in student_dictionary.items():\n",
    "    tuple12 = (x,y)\n",
    "    dic_to_list.append(tuple12)\n",
    "\n",
    "print(dic_to_list)\n",
    "    "
   ]
  },
  {
   "cell_type": "markdown",
   "metadata": {},
   "source": [
    "10. Delete one of the items in the dictionary.\n"
   ]
  },
  {
   "cell_type": "code",
   "execution_count": 16,
   "metadata": {},
   "outputs": [
    {
     "output_type": "stream",
     "name": "stdout",
     "text": [
      "{'first_name': 'Javier', 'last_name': 'Olcoz', 'skills': ['friendly', 'kind', 'smart', 'patient'], 'country': 'Spain', 'city': 'León', 'address': ['Calle inventada', 12, '1D']}\n"
     ]
    }
   ],
   "source": [
    "del student_dictionary[\"age\"]\n",
    "print(student_dictionary)\n",
    "\n"
   ]
  },
  {
   "cell_type": "markdown",
   "metadata": {},
   "source": [
    "### Bonus Track"
   ]
  },
  {
   "cell_type": "markdown",
   "metadata": {},
   "source": [
    "**Tómate una cervecita o un zumito a tu salud.**"
   ]
  },
  {
   "cell_type": "markdown",
   "metadata": {},
   "source": [
    "!['daughter'](https://i.pinimg.com/originals/8f/35/28/8f35281e742e71be09697e7e6789b819.png)"
   ]
  },
  {
   "cell_type": "code",
   "execution_count": null,
   "metadata": {},
   "outputs": [],
   "source": []
  }
 ],
 "metadata": {
  "kernelspec": {
   "display_name": "Python 3",
   "language": "python",
   "name": "python3"
  },
  "language_info": {
   "codemirror_mode": {
    "name": "ipython",
    "version": 3
   },
   "file_extension": ".py",
   "mimetype": "text/x-python",
   "name": "python",
   "nbconvert_exporter": "python",
   "pygments_lexer": "ipython3",
   "version": "3.8.3-final"
  }
 },
 "nbformat": 4,
 "nbformat_minor": 2
}