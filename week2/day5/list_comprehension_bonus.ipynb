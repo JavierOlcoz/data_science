{
 "metadata": {
  "language_info": {
   "codemirror_mode": {
    "name": "ipython",
    "version": 3
   },
   "file_extension": ".py",
   "mimetype": "text/x-python",
   "name": "python",
   "nbconvert_exporter": "python",
   "pygments_lexer": "ipython3",
   "version": "3.8.3-final"
  },
  "orig_nbformat": 2,
  "kernelspec": {
   "name": "python3",
   "display_name": "Python 3.8.3 64-bit",
   "metadata": {
    "interpreter": {
     "hash": "885e59b4117422d4ddb743cd3083a9f7c4f583d62da3718482f61dc5ec76cf03"
    }
   }
  }
 },
 "nbformat": 4,
 "nbformat_minor": 2,
 "cells": [
  {
   "source": [
    "# HOW TO FLATTEN A LIST?\n",
    "### with list comprehension\n",
    "\n",
    "https://stackabuse.com/python-how-to-flatten-list-of-lists/"
   ],
   "cell_type": "markdown",
   "metadata": {}
  },
  {
   "cell_type": "code",
   "execution_count": 1,
   "metadata": {},
   "outputs": [],
   "source": [
    "lista_grande = [[[\"Juan\",\"Roberto\"],[\"Maria\", \"Miguel\", \"Xeles\"]],[[\"Mar\", \"Estela\"],[\"Leo\", \"Kapil\"]],[[\"Marta\", \"Javi\"],[\"Andreea\", \"Alfonso\"]],[[\"Alex\", \"Ariadna\"],[\"Anais\", \"Daniel\", \"Antonio\"]]]"
   ]
  },
  {
   "cell_type": "code",
   "execution_count": 2,
   "metadata": {},
   "outputs": [
    {
     "output_type": "execute_result",
     "data": {
      "text/plain": [
       "[[['Juan', 'Roberto'], ['Maria', 'Miguel', 'Xeles']],\n",
       " [['Mar', 'Estela'], ['Leo', 'Kapil']],\n",
       " [['Marta', 'Javi'], ['Andreea', 'Alfonso']],\n",
       " [['Alex', 'Ariadna'], ['Anais', 'Daniel', 'Antonio']]]"
      ]
     },
     "metadata": {},
     "execution_count": 2
    }
   ],
   "source": [
    "mi_lista_mediana = [lista_mediana for lista_mediana in lista_grande]\n",
    "# aquí estoy sacando las cuatro listas medianas que hay en la lista grande pero las vuelvo a meter en otra lista que es mi_lista_mediana\n",
    "mi_lista_mediana"
   ]
  },
  {
   "cell_type": "code",
   "execution_count": 3,
   "metadata": {},
   "outputs": [
    {
     "output_type": "execute_result",
     "data": {
      "text/plain": [
       "[['Juan', 'Roberto'],\n",
       " ['Maria', 'Miguel', 'Xeles'],\n",
       " ['Mar', 'Estela'],\n",
       " ['Leo', 'Kapil'],\n",
       " ['Marta', 'Javi'],\n",
       " ['Andreea', 'Alfonso'],\n",
       " ['Alex', 'Ariadna'],\n",
       " ['Anais', 'Daniel', 'Antonio']]"
      ]
     },
     "metadata": {},
     "execution_count": 3
    }
   ],
   "source": [
    "mi_lista_pequeña = [lista_pequeña for lista_mediana in lista_grande for lista_pequeña in lista_mediana]\n",
    "#aquí estoy sacando las dos listas pequeñas que hay en cada una de las cuatro listas medianas que hay dentro de la lista grande y metiéndolas dentro de mi_lista_pequeña\n",
    "mi_lista_pequeña"
   ]
  },
  {
   "cell_type": "code",
   "execution_count": 4,
   "metadata": {},
   "outputs": [
    {
     "output_type": "stream",
     "name": "stdout",
     "text": [
      "['Juan', 'Roberto', 'Maria', 'Miguel', 'Xeles', 'Mar', 'Estela', 'Leo', 'Kapil', 'Marta', 'Javi', 'Andreea', 'Alfonso', 'Alex', 'Ariadna', 'Anais', 'Daniel', 'Antonio']\n"
     ]
    }
   ],
   "source": [
    "mi_lista_con_lo_que_quiero = [lo_que_quiero for lista_mediana in lista_grande for lista_pequeña in lista_mediana for lo_que_quiero in lista_pequeña]\n",
    "# aquí saco todos los nombres que están dentro de las dos listas pequeñas que están dentro de las cuatro listas medianas dentro de la lista grande\n",
    "# esto se puede hacer directamente sin los pasos anteriores\n",
    "print(mi_lista_con_lo_que_quiero)"
   ]
  },
  {
   "cell_type": "code",
   "execution_count": 6,
   "metadata": {},
   "outputs": [
    {
     "output_type": "execute_result",
     "data": {
      "text/plain": [
       "['Juan y Clara',\n",
       " 'Roberto y Clara',\n",
       " 'Maria y Clara',\n",
       " 'Miguel y Clara',\n",
       " 'Xeles y Clara',\n",
       " 'Mar y Clara',\n",
       " 'Estela y Clara',\n",
       " 'Leo y Clara',\n",
       " 'Kapil y Clara',\n",
       " 'Marta y Clara',\n",
       " 'Javi y Clara',\n",
       " 'Andreea y Clara',\n",
       " 'Alfonso y Clara',\n",
       " 'Alex y Clara',\n",
       " 'Ariadna y Clara',\n",
       " 'Anais y Clara',\n",
       " 'Daniel y Clara',\n",
       " 'Antonio y Clara']"
      ]
     },
     "metadata": {},
     "execution_count": 6
    }
   ],
   "source": [
    "mi_lista_con_lo_que_quiero_conmigo = [lo_que_quiero+\" y Clara\" for lista_mediana in lista_grande for lista_pequeña in lista_mediana for lo_que_quiero in lista_pequeña]\n",
    "mi_lista_con_lo_que_quiero_conmigo"
   ]
  },
  {
   "cell_type": "code",
   "execution_count": null,
   "metadata": {},
   "outputs": [],
   "source": []
  }
 ]
}