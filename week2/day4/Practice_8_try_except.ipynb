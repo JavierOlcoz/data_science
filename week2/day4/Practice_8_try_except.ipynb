{
 "cells": [
  {
   "cell_type": "markdown",
   "metadata": {},
   "source": [
    "# Python | day 8 | try&except"
   ]
  },
  {
   "cell_type": "markdown",
   "metadata": {},
   "source": [
    "Python uses try and except to handle errors gracefully. A graceful exit (or graceful handling) of errors is a simple programming idiom - a program detects a serious error condition and \"exits gracefully\", in a controlled manner as a result. Often the program prints a descriptive error message to a terminal or log as part of the graceful exit, this makes our application more robust. The cause of an exception is often external to the program itself. An example of exceptions could be an incorrect input, wrong file name, unable to find a file, a malfunctioning IO device. Graceful handling of errors prevents our applications from crashing."
   ]
  },
  {
   "cell_type": "markdown",
   "metadata": {},
   "source": [
    "```python\n",
    "try:\n",
    "    code in this block if things go well\n",
    "except:\n",
    "    code in this block run if things go wrong\n",
    "```"
   ]
  },
  {
   "cell_type": "markdown",
   "metadata": {},
   "source": [
    "### Exercise 1. \n"
   ]
  },
  {
   "cell_type": "markdown",
   "metadata": {},
   "source": [
    "1. In the 4 cells below, modify the code to catch the error and print a meaningful message that will alert the user what went wrong. You may catch the error using a general except or a specific except for the error caused by the code."
   ]
  },
  {
   "cell_type": "code",
   "execution_count": 13,
   "metadata": {},
   "outputs": [
    {
     "output_type": "stream",
     "name": "stdout",
     "text": [
      "name 'some_string' is not defined\nsome_string doesn't have a value assigned\n"
     ]
    }
   ],
   "source": [
    "# Modify the code below:\n",
    "try: \n",
    "    print(some_string)\n",
    "except Exception as error:\n",
    "    print(error)\n",
    "    print(\"some_string doesn't have a value assigned\")\n",
    "\n"
   ]
  },
  {
   "cell_type": "code",
   "execution_count": 6,
   "metadata": {},
   "outputs": [
    {
     "output_type": "stream",
     "name": "stdout",
     "text": [
      "unsupported operand type(s) for ** or pow(): 'str' and 'int'\nYou can't power a string type value\n"
     ]
    }
   ],
   "source": [
    "# Modify the code below:\n",
    "try:\n",
    "    for i in ['a','b','c']:\n",
    "        print (i**2)\n",
    "except Exception as error:\n",
    "    print(error)\n",
    "    print(\"You can't power a string type value\")"
   ]
  },
  {
   "cell_type": "code",
   "execution_count": 10,
   "metadata": {},
   "outputs": [
    {
     "output_type": "stream",
     "name": "stdout",
     "text": [
      "division by zero\nYou can't divide an integer by 0\n"
     ]
    }
   ],
   "source": [
    "# Modify the code below:\n",
    "try:\n",
    "    x = 5\n",
    "    y = 0\n",
    "\n",
    "    z = x/y\n",
    "except Exception as error:\n",
    "    print(error)\n",
    "    print(\"You can't divide an integer by 0\")"
   ]
  },
  {
   "cell_type": "code",
   "execution_count": 16,
   "metadata": {},
   "outputs": [
    {
     "output_type": "stream",
     "name": "stdout",
     "text": [
      "list index out of range\n3 is not an existing index in list abc, possible indexes go from 0 to 2\n"
     ]
    }
   ],
   "source": [
    "# Modify the code below:\n",
    "try:\n",
    "    abc=[10,20,20]\n",
    "    print(abc[3])\n",
    "except Exception as error:\n",
    "    print(error)\n",
    "    print(\"3 is not an existing index in list abc, possible indexes go from 0 to 2\")"
   ]
  },
  {
   "cell_type": "markdown",
   "metadata": {},
   "source": [
    "### Exercise 2. "
   ]
  },
  {
   "cell_type": "markdown",
   "metadata": {},
   "source": [
    "In the 3 cells below, add an if statment that will handle both types of input allowed in the functions."
   ]
  },
  {
   "cell_type": "code",
   "execution_count": 35,
   "metadata": {},
   "outputs": [
    {
     "output_type": "stream",
     "name": "stdout",
     "text": [
      "La solución estaría en el espacio de números complejo: 2.0 * i\n"
     ]
    },
    {
     "output_type": "execute_result",
     "data": {
      "text/plain": [
       "2.0"
      ]
     },
     "metadata": {},
     "execution_count": 35
    }
   ],
   "source": [
    "import math # import a library called math with functions, like sqrt() \n",
    "# Modify the code below to handle positive and negative numbers by adding an if statement and performing a transformation:\n",
    "\n",
    "def sqrt_for_all(x):\n",
    "    # This function will take any real number and return the square root of its magnitude\n",
    "    # Input: real number\n",
    "    # Output: real number\n",
    "    if x < 0:\n",
    "        x = x * (-1)\n",
    "        print(\"La solución estaría en el espacio de números complejo:\", math.sqrt(x), \"* i\")\n",
    "        # Sample Input: -4\n",
    "        # Sample Output: 2.0\n",
    "    return math.sqrt(x)\n",
    "\n",
    "sqrt_for_all(-4)\n",
    "\n",
    "    \n"
   ]
  },
  {
   "cell_type": "code",
   "execution_count": 38,
   "metadata": {},
   "outputs": [
    {
     "output_type": "execute_result",
     "data": {
      "text/plain": [
       "0"
      ]
     },
     "metadata": {},
     "execution_count": 38
    }
   ],
   "source": [
    "# Modify the code below to handle zero as well. In the case of zero, return zero\n",
    "\n",
    "def divide(x, y):\n",
    "    # This function will take any two real numbers and return their quotient. If the denominator is zero, we return zero\n",
    "    # Input: real number\n",
    "    # Output: real number\n",
    "    \n",
    "    # Sample Input: 5, 1\n",
    "    # Sample Output: 5.0\n",
    "    if y == 0:\n",
    "        return 0\n",
    "    return x / y\n",
    "\n",
    "divide(5, 0)"
   ]
  },
  {
   "cell_type": "code",
   "execution_count": 8,
   "metadata": {},
   "outputs": [
    {
     "output_type": "stream",
     "name": "stdout",
     "text": [
      "[6]\n"
     ]
    },
    {
     "output_type": "execute_result",
     "data": {
      "text/plain": [
       "[11]"
      ]
     },
     "metadata": {},
     "execution_count": 8
    }
   ],
   "source": [
    "# Modify the function below that it will take either an number and a list or two numbers. \n",
    "# If we take two numbers, add them together and return a list of length 1. \n",
    "# Otherwise, add the number to every element of the list and return the resulting list\n",
    "\n",
    "def add_elements(a, l):\n",
    "    if type(l) == int:\n",
    "        m = []\n",
    "        m.append(l)\n",
    "        l = m\n",
    "        print(l)\n",
    "        \n",
    "    return [a + element for element in l]\n",
    "        \n",
    "add_elements(5, 6)\n",
    "        \n"
   ]
  },
  {
   "cell_type": "markdown",
   "metadata": {},
   "source": [
    "### Exercise 3. \n",
    "\n",
    "Write a function that asks for an integer and prints the square of it. Keep checking while the function gets an integer.\n",
    "\n",
    "Use a `while` loop with a `try/except` block to account for incorrect inputs."
   ]
  },
  {
   "cell_type": "code",
   "execution_count": 20,
   "metadata": {},
   "outputs": [
    {
     "output_type": "stream",
     "name": "stdout",
     "text": [
      "25\n",
      "Sorry, your input has to be an integer\n"
     ]
    }
   ],
   "source": [
    "# Lo que entiendo que se pide es que hagamos un bucle que vaya pidiendo numeros enteros y devuelva sus cuadrados. Si el input no es un entero se detecta el fallo y se *para el bucle*. Lo que hay escrito entre asteriscos es porque no sé si se tiene que parar el bucle cuando haya un fallo o seguir indefinidamente detectando errores y devolviendo cuadrados. Para este último caso valdría con quitar el break dentro del except.\n",
    "\n",
    "while True:\n",
    "    try:\n",
    "        a = int(input())\n",
    "        b = a**2\n",
    "        print(b)\n",
    "    except:\n",
    "        print(\"Sorry, your input has to be an integer\")\n",
    "        break # Este es el break mencionado anteriormente\n",
    "\n"
   ]
  },
  {
   "cell_type": "code",
   "execution_count": null,
   "metadata": {},
   "outputs": [],
   "source": []
  },
  {
   "cell_type": "markdown",
   "metadata": {},
   "source": [
    "### Bonus Track of Practice_7_while. You have another oportunity to solve it! \n",
    "If you did it yesterday, don't worry about it, if you did'nt, you should worry about it now!"
   ]
  },
  {
   "cell_type": "code",
   "execution_count": null,
   "metadata": {},
   "outputs": [],
   "source": []
  },
  {
   "cell_type": "markdown",
   "metadata": {},
   "source": [
    "### Bonus track.\n",
    "\n",
    "1. Make a program using `while` that generates a **deck of cards** of 4 different suits. The deck must have 40 cards.\n",
    "\n",
    "   Develop the program in a `.py` file that will be run through the terminal. \n",
    " \n",
    "   From the folder that contains the corresponding `.py`, it will be executed with the following command:` python3 program_name.py`\n",
    "   Sometimes should work with `python program_name.py`"
   ]
  },
  {
   "cell_type": "markdown",
   "metadata": {},
   "source": [
    "![\"lol\"](https://i.pinimg.com/originals/34/b2/ad/34b2ad1c370539fba5ed9422711cad7b.png)"
   ]
  },
  {
   "cell_type": "code",
   "execution_count": 13,
   "metadata": {},
   "outputs": [
    {
     "output_type": "execute_result",
     "data": {
      "text/plain": [
       "['1 Corazones',\n",
       " '2 Corazones',\n",
       " '3 Corazones',\n",
       " '4 Corazones',\n",
       " '5 Corazones',\n",
       " '6 Corazones',\n",
       " '7 Corazones',\n",
       " '8 Corazones',\n",
       " '9 Corazones',\n",
       " '10 Corazones',\n",
       " '1 Picas',\n",
       " '2 Picas',\n",
       " '3 Picas',\n",
       " '4 Picas',\n",
       " '5 Picas',\n",
       " '6 Picas',\n",
       " '7 Picas',\n",
       " '8 Picas',\n",
       " '9 Picas',\n",
       " '10 Picas',\n",
       " '1 Tréboles',\n",
       " '2 Tréboles',\n",
       " '3 Tréboles',\n",
       " '4 Tréboles',\n",
       " '5 Tréboles',\n",
       " '6 Tréboles',\n",
       " '7 Tréboles',\n",
       " '8 Tréboles',\n",
       " '9 Tréboles',\n",
       " '10 Tréboles',\n",
       " '1 Rombos',\n",
       " '2 Rombos',\n",
       " '3 Rombos',\n",
       " '4 Rombos',\n",
       " '5 Rombos',\n",
       " '6 Rombos',\n",
       " '7 Rombos',\n",
       " '8 Rombos',\n",
       " '9 Rombos',\n",
       " '10 Rombos']"
      ]
     },
     "metadata": {},
     "execution_count": 13
    }
   ],
   "source": [
    "acum = 0\n",
    "deck = []\n",
    "while acum < 4:\n",
    "    acum2 = 0\n",
    "    if acum == 0:\n",
    "        z = (\" Corazones\")\n",
    "        while acum2 < 10:\n",
    "            y = str(acum2 + 1) + z\n",
    "            deck.append(y)\n",
    "            acum2 += 1\n",
    "    elif acum == 1:\n",
    "        z = (\" Picas\")\n",
    "        while acum2 < 10:\n",
    "            y = str(acum2 + 1) + z\n",
    "            deck.append(y)\n",
    "            acum2 += 1\n",
    "    elif acum == 2:\n",
    "        z = (\" Tréboles\")\n",
    "        while acum2 < 10:\n",
    "            y = str(acum2 + 1) + z\n",
    "            deck.append(y)\n",
    "            acum2 += 1\n",
    "    else: \n",
    "        z = (\" Rombos\")\n",
    "        while acum2 < 10:\n",
    "            y = str(acum2 + 1) + z\n",
    "            deck.append(y)\n",
    "            acum2 += 1\n",
    "    acum += 1\n",
    "\n",
    "\n",
    "\n",
    "deck \n",
    "\n"
   ]
  },
  {
   "cell_type": "code",
   "execution_count": null,
   "metadata": {},
   "outputs": [],
   "source": []
  }
 ],
 "metadata": {
  "kernelspec": {
   "display_name": "Python 3",
   "language": "python",
   "name": "python3"
  },
  "language_info": {
   "codemirror_mode": {
    "name": "ipython",
    "version": 3
   },
   "file_extension": ".py",
   "mimetype": "text/x-python",
   "name": "python",
   "nbconvert_exporter": "python",
   "pygments_lexer": "ipython3",
   "version": "3.8.3-final"
  }
 },
 "nbformat": 4,
 "nbformat_minor": 4
}