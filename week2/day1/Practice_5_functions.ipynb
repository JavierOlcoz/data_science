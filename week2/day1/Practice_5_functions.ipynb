{
 "cells": [
  {
   "cell_type": "markdown",
   "metadata": {},
   "source": [
    "# Python | day 5 | functions"
   ]
  },
  {
   "cell_type": "markdown",
   "metadata": {},
   "source": [
    "In Python, a function is a group of related statements that performs a specific task."
   ]
  },
  {
   "cell_type": "markdown",
   "metadata": {},
   "source": [
    "https://www.programiz.com/python-programming/function"
   ]
  },
  {
   "cell_type": "markdown",
   "metadata": {},
   "source": [
    "#### Difference between `return` and `print`.\n",
    "\n",
    "Take some minutes to understand the difference between `return` and `print`, it seems to be the same, but they are not and it's important you understand the difference. "
   ]
  },
  {
   "cell_type": "code",
   "execution_count": 2,
   "metadata": {},
   "outputs": [
    {
     "output_type": "stream",
     "name": "stdout",
     "text": [
      "2\n4\n8\n"
     ]
    }
   ],
   "source": [
    "def suma(a,b):\n",
    "    print(a)\n",
    "    return a+b\n",
    "\n",
    "print(suma(suma(2,2),4))"
   ]
  },
  {
   "cell_type": "markdown",
   "metadata": {},
   "source": [
    "#### Comments in a function."
   ]
  },
  {
   "cell_type": "code",
   "execution_count": 3,
   "metadata": {},
   "outputs": [],
   "source": [
    "def say_hello(name):\n",
    "    \"\"\"\n",
    "    Given a name as an argument, \n",
    "    the function return a string greeting\n",
    "    the name given. \n",
    "    \"\"\"\n",
    "    return f\"hello {name}\""
   ]
  },
  {
   "cell_type": "code",
   "execution_count": 4,
   "metadata": {},
   "outputs": [
    {
     "output_type": "stream",
     "name": "stdout",
     "text": [
      "hello Clara\n"
     ]
    }
   ],
   "source": [
    "print(say_hello(\"Clara\"))"
   ]
  },
  {
   "cell_type": "code",
   "execution_count": 5,
   "metadata": {},
   "outputs": [
    {
     "output_type": "stream",
     "name": "stdout",
     "text": [
      "Help on function say_hello in module __main__:\n\nsay_hello(name)\n    Given a name as an argument, \n    the function return a string greeting\n    the name given.\n\n"
     ]
    }
   ],
   "source": [
    "help(say_hello)"
   ]
  },
  {
   "cell_type": "markdown",
   "metadata": {},
   "source": [
    "### Exercise 1. "
   ]
  },
  {
   "cell_type": "markdown",
   "metadata": {},
   "source": [
    "To solve the following exercises it will be necessary to define a function for each section. You choose the name of those functions unless specified, but make sure you define a single parameter `whichever_list`, when calling the function it will correspond to the variable `info_list`.\n"
   ]
  },
  {
   "cell_type": "code",
   "execution_count": 6,
   "metadata": {},
   "outputs": [],
   "source": [
    "# you can use this list or take yours from Practice 3\n",
    "info_list = [15, 'Recoletos', True, ['Recoletos', 15],  None, '8'] "
   ]
  },
  {
   "cell_type": "code",
   "execution_count": null,
   "metadata": {},
   "outputs": [],
   "source": []
  },
  {
   "cell_type": "markdown",
   "metadata": {},
   "source": [
    "1. Display on the screen `\"I like the tranquility\"` if you like the mountains more and `\"I'd love to live in Malaga\"` if you like the beach more.\n",
    "\n",
    "**Remember you should define a function which do exactly that but for a list called `whichever_list`, the parameter. \n",
    "After you've done that call the funtion giving `info_list` as the argument.**"
   ]
  },
  {
   "cell_type": "code",
   "execution_count": 7,
   "metadata": {},
   "outputs": [
    {
     "output_type": "stream",
     "name": "stdout",
     "text": [
      "I like the tranquility\n"
     ]
    }
   ],
   "source": [
    "def like(whichever_list):\n",
    "    \n",
    "    \"\"\" Imprime la frase pedida\n",
    "        Arg: info_list\n",
    "    \"\"\"\n",
    "    print(\"I like the tranquility\")\n",
    "\n",
    "\n",
    "like(whichever_list = info_list) "
   ]
  },
  {
   "cell_type": "markdown",
   "metadata": {},
   "source": [
    "2. Print `\"Today I am tired\"` if you have slept less than 7 hours or `\"Today I conquer the world\"` if you have slept more than 7 hours."
   ]
  },
  {
   "cell_type": "code",
   "execution_count": 8,
   "metadata": {},
   "outputs": [
    {
     "output_type": "stream",
     "name": "stdout",
     "text": [
      "Today I conquer the world\n"
     ]
    }
   ],
   "source": [
    "def sleep(whichever_list):\n",
    "    \n",
    "    \"\"\" Imprime la frase pedida\n",
    "        Arg: info_list\n",
    "    \"\"\"\n",
    "    print(\"Today I conquer the world\")\n",
    "\n",
    "\n",
    "sleep(whichever_list = info_list) "
   ]
  },
  {
   "cell_type": "markdown",
   "metadata": {},
   "source": [
    "3. Loop through `whichever_list` to print all the elements it contains. This function should return the list turned into a tuple. "
   ]
  },
  {
   "cell_type": "code",
   "execution_count": 9,
   "metadata": {},
   "outputs": [
    {
     "output_type": "stream",
     "name": "stdout",
     "text": [
      "15 Recoletos True ['Recoletos', 15] None 8 "
     ]
    },
    {
     "output_type": "execute_result",
     "data": {
      "text/plain": [
       "(15, 'Recoletos', True, ['Recoletos', 15], None, '8')"
      ]
     },
     "metadata": {},
     "execution_count": 9
    }
   ],
   "source": [
    "def impr(whichever_list):\n",
    "    \n",
    "    \"\"\" Imprime todos los elementos y retorna la tupla formado por los mismos\n",
    "        Arg: info_list\n",
    "    \"\"\"\n",
    "    for x in whichever_list:\n",
    "        print(x, end=\" \") # Imprimo por pantalla todos los elementos\n",
    "\n",
    "    return tuple(whichever_list) # Me retorna la lista en forma de tupla\n",
    "\n",
    "impr(whichever_list = info_list)"
   ]
  },
  {
   "cell_type": "markdown",
   "metadata": {},
   "source": [
    "4. Loop through `whichever_list` to print all the elements it contains concatenated with the string` \"--> OK\" `. This function should return a message saying, `\"everything will be ok\"`. \n"
   ]
  },
  {
   "cell_type": "code",
   "execution_count": 10,
   "metadata": {},
   "outputs": [
    {
     "output_type": "stream",
     "name": "stdout",
     "text": [
      "15 --> OK Recoletos --> OK True --> OK ['Recoletos', 15] --> OK None --> OK 8 --> OK \n<class 'str'>\n"
     ]
    },
    {
     "output_type": "execute_result",
     "data": {
      "text/plain": [
       "'everything will be ok'"
      ]
     },
     "metadata": {},
     "execution_count": 10
    }
   ],
   "source": [
    "def impr2(whichever_list):\n",
    "    \n",
    "    \"\"\" Imprime la concatenación de los elementos de la lista, su type y retorna la frase pedida\n",
    "        Arg: info_list\n",
    "    \"\"\"\n",
    "    z = \"\"\n",
    "    for x in whichever_list:     \n",
    "        z = z + str(x) + \" --> OK \" \n",
    "\n",
    "    print(z)\n",
    "    print(type(z))\n",
    "    return \"everything will be ok\" \n",
    "\n",
    "impr2(whichever_list = info_list)"
   ]
  },
  {
   "cell_type": "markdown",
   "metadata": {},
   "source": [
    "5. Loop through `whichever_list` to display all items it contains except the first one. This function should return the first element of the list. "
   ]
  },
  {
   "cell_type": "code",
   "execution_count": 11,
   "metadata": {},
   "outputs": [
    {
     "output_type": "stream",
     "name": "stdout",
     "text": [
      "Recoletos\nTrue\n['Recoletos', 15]\nNone\n8\n"
     ]
    },
    {
     "output_type": "execute_result",
     "data": {
      "text/plain": [
       "15"
      ]
     },
     "metadata": {},
     "execution_count": 11
    }
   ],
   "source": [
    "def display(whichever_list):\n",
    "\n",
    "    \"\"\" Imprime todos los elementos de la lista menos el primero, el cual, lo retorna.\n",
    "        Arg: info_list\n",
    "    \"\"\"\n",
    "    for x in range(1 ,len(whichever_list)):\n",
    "        print(whichever_list[x])\n",
    "\n",
    "    return whichever_list[0] \n",
    "\n",
    "display(whichever_list = info_list)"
   ]
  },
  {
   "cell_type": "markdown",
   "metadata": {},
   "source": [
    "6. Loop through `whichever_list` to display all the items it contains except the last one. This function should return the last element of the list. "
   ]
  },
  {
   "cell_type": "code",
   "execution_count": 12,
   "metadata": {},
   "outputs": [
    {
     "output_type": "stream",
     "name": "stdout",
     "text": [
      "15\nRecoletos\nTrue\n['Recoletos', 15]\nNone\n"
     ]
    },
    {
     "output_type": "execute_result",
     "data": {
      "text/plain": [
       "'8'"
      ]
     },
     "metadata": {},
     "execution_count": 12
    }
   ],
   "source": [
    "def display2(whichever_list):\n",
    "\n",
    "    \"\"\" Imprime todos los elementos de la lista menos el último, el cual, lo retorna.\n",
    "        Arg: info_list\n",
    "    \"\"\"\n",
    "    for x in range(len(whichever_list)-1):\n",
    "        print(whichever_list[x])\n",
    "\n",
    "    return whichever_list[-1] \n",
    "\n",
    "display2(whichever_list = info_list)"
   ]
  },
  {
   "cell_type": "markdown",
   "metadata": {},
   "source": [
    "7. Loop through `whichever_list` to show all the elements it contains except the street number and the hours you've slept."
   ]
  },
  {
   "cell_type": "code",
   "execution_count": 13,
   "metadata": {},
   "outputs": [
    {
     "output_type": "stream",
     "name": "stdout",
     "text": [
      "Recoletos\nTrue\nRecoletos\nNone\n"
     ]
    }
   ],
   "source": [
    "def display3(whichever_list):\n",
    "\n",
    "    \"\"\" Imprime todos los elementos de la lista menos el último, el cual, lo retorna.\n",
    "        Arg: info_list\n",
    "    \"\"\"\n",
    "    for x, y in enumerate(whichever_list):\n",
    "\n",
    "        if x == 0 or x == 5: # Hago que no muestre el primer street number ni las horas que he dormido\n",
    "            continue\n",
    "\n",
    "        elif type(y) == list: # Hago que no muestre el segundo street number de la lista\n",
    "            for j in y:\n",
    "                if type(j) == str:\n",
    "                    print(j)\n",
    "\n",
    "        else:\n",
    "            print(y)\n",
    "\n",
    "display3(whichever_list = info_list)"
   ]
  },
  {
   "cell_type": "markdown",
   "metadata": {},
   "source": [
    "8. Loop through `whichever_list` to print all the elements it contains except the first element of the list which is in fifth position `'Recoletos'`. This function should return the lenght of that element. "
   ]
  },
  {
   "cell_type": "code",
   "execution_count": 14,
   "metadata": {},
   "outputs": [
    {
     "output_type": "stream",
     "name": "stdout",
     "text": [
      "15\nRecoletos\nTrue\n15\nNone\n8\n"
     ]
    },
    {
     "output_type": "execute_result",
     "data": {
      "text/plain": [
       "('Longitud del elemento pedido:', 9)"
      ]
     },
     "metadata": {},
     "execution_count": 14
    }
   ],
   "source": [
    "def display4(whichever_list):\n",
    "\n",
    "    \"\"\" Imprime todos los elementos de la lista menos Recoletos de dentro de la lista \n",
    "        Arg: info_list\n",
    "    \"\"\"\n",
    "    for x in whichever_list:\n",
    "        if type(x) == list: # Hago que no muestre el nombre de la calle\n",
    "            for j in x:\n",
    "                if type(j) == int:\n",
    "                    print(j)\n",
    "        else:\n",
    "            print(x)\n",
    "\n",
    "    return \"Longitud del elemento pedido:\", len(whichever_list[3][0])\n",
    "\n",
    "display4(whichever_list = info_list)"
   ]
  },
  {
   "cell_type": "markdown",
   "metadata": {},
   "source": [
    "9. Loop through `whichever_list` to show all the elements it contains except the one that contains the information about whether you like the mountains or the beach. The function should return a message saying `\"I love the beach\"` if you prefer the beach and a message saying `\"I love the mountain\"` otherwise. "
   ]
  },
  {
   "cell_type": "code",
   "execution_count": 15,
   "metadata": {},
   "outputs": [
    {
     "output_type": "stream",
     "name": "stdout",
     "text": [
      "15\nRecoletos\n['Recoletos', 15]\nNone\n8\n"
     ]
    },
    {
     "output_type": "execute_result",
     "data": {
      "text/plain": [
       "'I like the mountain'"
      ]
     },
     "metadata": {},
     "execution_count": 15
    }
   ],
   "source": [
    "def display5(whichever_list):\n",
    "\n",
    "    \"\"\" Imprime todos los elementos de la lista menos el True y retorna la frase pedida\n",
    "        Arg: info_list\n",
    "    \"\"\"\n",
    "    for x in whichever_list:\n",
    "        if x == True:\n",
    "            continue\n",
    "        else:\n",
    "            print(x)\n",
    "\n",
    "    return \"I like the mountain\"\n",
    "\n",
    "display5(whichever_list = info_list)"
   ]
  },
  {
   "cell_type": "markdown",
   "metadata": {},
   "source": [
    "### Exercise 2. \n",
    "\n",
    "In the case of not being able to solve a question containing the code in a function, try to do it without defining one. "
   ]
  },
  {
   "cell_type": "markdown",
   "metadata": {},
   "source": [
    "1. Create a variable called `zone` and give it the value of **None**. Loop through `whichever_list` and update `zone` to **True** if and only if, you have slept more than 7 hours, you like the beach and the sum of the hours you have slept plus the number of The Bridge is less than 24. For any other case, `zone` will be **False**. This function should return the value of `zone` and will be called `zone_function`.\n"
   ]
  },
  {
   "cell_type": "code",
   "execution_count": 22,
   "metadata": {},
   "outputs": [
    {
     "output_type": "stream",
     "name": "stdout",
     "text": [
      "True\n"
     ]
    },
    {
     "output_type": "execute_result",
     "data": {
      "text/plain": [
       "True"
      ]
     },
     "metadata": {},
     "execution_count": 22
    }
   ],
   "source": [
    "zone = None\n",
    "\n",
    "def zone_function(whichever_list):\n",
    "    for x in whichever_list:\n",
    "        if int(whichever_list[5]) > 7 and str(whichever_list[2]) == \"True\" and whichever_list[0] + int(whichever_list[5]) < 24:    \n",
    "            zone = True\n",
    "            print(zone)\n",
    "            return zone\n",
    "        else:\n",
    "            zone = False \n",
    "            return zone\n",
    "zone_function(whichever_list = info_list)"
   ]
  },
  {
   "cell_type": "markdown",
   "metadata": {},
   "source": [
    "2. Define a function called `test_function` that receives only one parameter called `zone_value` and that returns the value of `zone_value` if it is **True**. Once you've defined `test_function` you should call it with the value returned by the `zone_function` as an argument."
   ]
  },
  {
   "cell_type": "code",
   "execution_count": 23,
   "metadata": {},
   "outputs": [
    {
     "output_type": "stream",
     "name": "stdout",
     "text": [
      "True\n"
     ]
    },
    {
     "output_type": "execute_result",
     "data": {
      "text/plain": [
       "True"
      ]
     },
     "metadata": {},
     "execution_count": 23
    }
   ],
   "source": [
    "def test_function(zone_value):\n",
    "    if zone_value == True:\n",
    "\n",
    "        return zone_value\n",
    "    else:\n",
    "        None\n",
    "test_function(zone_value = zone_function(whichever_list = info_list))\n",
    "\n"
   ]
  },
  {
   "cell_type": "markdown",
   "metadata": {},
   "source": [
    "3. Define a function that asks the user if they like the mountain and, if not, call the `zone_function` function."
   ]
  },
  {
   "cell_type": "code",
   "execution_count": 24,
   "metadata": {},
   "outputs": [
    {
     "output_type": "stream",
     "name": "stdout",
     "text": [
      "Do you like the mountain?\n",
      "True\n"
     ]
    }
   ],
   "source": [
    "def ask():\n",
    "    x = input(print(\"Do you like the mountain?\"))\n",
    "    if x == \"no\":\n",
    "        zone_function(whichever_list = info_list)\n",
    "    else: \n",
    "        None\n",
    "l = ask()\n",
    "l\n"
   ]
  },
  {
   "cell_type": "markdown",
   "metadata": {},
   "source": [
    "### Bonus Track.\n",
    "\n",
    "**This Bonus Track could take you some days, it is very ok, sometimes coding is all about time.**\n",
    "\n",
    "This week, you'll also learn about `.py` files and you will be able to implement this program into that kind of file. Not yet, tho. "
   ]
  },
  {
   "cell_type": "markdown",
   "metadata": {},
   "source": [
    "1. Program **a calculator** that asks for two numbers and two operators on the screen. One operation must be performed first and then another. Try to define as many functions as possible."
   ]
  },
  {
   "cell_type": "code",
   "execution_count": 25,
   "metadata": {},
   "outputs": [
    {
     "output_type": "stream",
     "name": "stdout",
     "text": [
      "5.0\n",
      "5.0\n"
     ]
    }
   ],
   "source": [
    "numero_1 = float(input())\n",
    "print(numero_1)\n",
    "numero_2 = float(input())\n",
    "print(numero_2)\n",
    "\n"
   ]
  },
  {
   "cell_type": "markdown",
   "metadata": {},
   "source": [
    "!['ha'](https://i.pinimg.com/originals/c6/4e/fc/c64efc9adaedbf446f328698e8b67388.jpg)"
   ]
  },
  {
   "cell_type": "code",
   "execution_count": null,
   "metadata": {},
   "outputs": [],
   "source": []
  }
 ],
 "metadata": {
  "kernelspec": {
   "display_name": "Python 3",
   "language": "python",
   "name": "python3"
  },
  "language_info": {
   "codemirror_mode": {
    "name": "ipython",
    "version": 3
   },
   "file_extension": ".py",
   "mimetype": "text/x-python",
   "name": "python",
   "nbconvert_exporter": "python",
   "pygments_lexer": "ipython3",
   "version": "3.8.3-final"
  }
 },
 "nbformat": 4,
 "nbformat_minor": 4
}