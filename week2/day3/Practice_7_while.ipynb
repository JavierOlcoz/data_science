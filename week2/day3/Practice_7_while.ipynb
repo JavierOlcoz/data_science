{
 "cells": [
  {
   "cell_type": "markdown",
   "metadata": {},
   "source": [
    "# Python | day 7 | while"
   ]
  },
  {
   "cell_type": "markdown",
   "metadata": {},
   "source": [
    "With the **while** loop we can execute a set of statements as long as a condition is true."
   ]
  },
  {
   "cell_type": "markdown",
   "metadata": {},
   "source": [
    "```python\n",
    "i = 1\n",
    "while i < 6:\n",
    "  print(i)\n",
    "  i += 1\n",
    "```"
   ]
  },
  {
   "cell_type": "markdown",
   "metadata": {},
   "source": [
    "https://www.w3schools.com/python/python_while_loops.asp"
   ]
  },
  {
   "cell_type": "markdown",
   "metadata": {},
   "source": [
    "### Exercise 1. "
   ]
  },
  {
   "cell_type": "markdown",
   "metadata": {},
   "source": [
    "Do as described below:\n",
    "\n",
    "- Make a variable called strength, and set its initial value to 5.\n",
    "\n",
    "- Print a message reporting the player's strength.\n",
    "\n",
    "- Set up a while loop that runs until the player's strength increases to a value such as 10.\n",
    "\n",
    "- Inside the while loop, print a message that reports the player's current strength.\n",
    "\n",
    "- Inside the while loop, write a statement that increases the player's strength.\n",
    "\n",
    "- Outside the while loop, print a message reporting that the player has grown too strong, and that they have moved up to a new level of the game.\n",
    "\n",
    "Play around with different cutoff levels for the value of strength, and play around with different ways to increase the strength value within the while loop.\n"
   ]
  },
  {
   "cell_type": "code",
   "execution_count": 2,
   "metadata": {},
   "outputs": [
    {
     "output_type": "stream",
     "name": "stdout",
     "text": [
      "5\nActual strenght 5\nActual strenght 6\nActual strenght 7\nActual strenght 8\nActual strenght 9\nActual strenght 10\nYou have grown too strong, you have moved up to the next level\n"
     ]
    }
   ],
   "source": [
    "# Exercise 1 (he probado varias opciones pero dejo escrita la que se pide en el enunciado)\n",
    "strenght = 5\n",
    "print(strenght)\n",
    "\n",
    "while strenght < 11:\n",
    "    print(\"Actual strenght\", strenght)\n",
    "    strenght += 1\n",
    "print(\"You have grown too strong, you have moved up to the next level\")"
   ]
  },
  {
   "cell_type": "markdown",
   "metadata": {},
   "source": [
    "### Exercise 2. "
   ]
  },
  {
   "cell_type": "markdown",
   "metadata": {},
   "source": [
    "To solve the following exercises it will be necessary to define a function for each section. You choose the name of those functions unless specified, but make sure you define a single parameter `whichever_list`, when calling the function it will correspond to the variable `info_list`."
   ]
  },
  {
   "cell_type": "code",
   "execution_count": 2,
   "metadata": {},
   "outputs": [],
   "source": [
    "# you can use this list or take yours from Practice 3\n",
    "info_list = [15, 'Recoletos', True, ['Recoletos', 15],  None, '8'] "
   ]
  },
  {
   "cell_type": "markdown",
   "metadata": {},
   "source": [
    "You have already read these questions below, but this time you are asked to solve it using `while` loop instead of `for`. \n",
    "\n",
    "   - Loop through `whichever_list` to print all the elements it contains. This function should return the list turned into a tuple. \n",
    "   - Loop through `whichever_list` to print all the elements it contains concatenated with the string` \"--> OK\" `. This function should return a message saying, `\"everything will be ok\"`. \n",
    "   - Loop through `whichever_list` to display all items it contains except the first one. This function should return the first element of the list. \n",
    "   - Loop through `whichever_list` to display all the items it contains except the last one. This function should return the last element of the list. "
   ]
  },
  {
   "cell_type": "code",
   "execution_count": 21,
   "metadata": {},
   "outputs": [
    {
     "output_type": "stream",
     "name": "stdout",
     "text": [
      "15\nRecoletos\nTrue\n['Recoletos', 15]\nNone\n8\n"
     ]
    },
    {
     "output_type": "execute_result",
     "data": {
      "text/plain": [
       "(15, 'Recoletos', True, ['Recoletos', 15], None, '8')"
      ]
     },
     "metadata": {},
     "execution_count": 21
    }
   ],
   "source": [
    "# Apartado 1: imprimo los elementos de la lista y la lista en forma de tupla\n",
    "\n",
    "lista1 = []\n",
    "def impr(whichever_list):\n",
    "    \"\"\" prints the elements, appends them to list1 and returns it tuplered.\n",
    "        *Args = info_list\n",
    "    \"\"\"\n",
    "    acum = 0\n",
    "    while acum < 6:\n",
    "        print(whichever_list[acum])\n",
    "        lista1.append(whichever_list[acum])\n",
    "        acum += 1\n",
    "    return tuple(lista1)\n",
    "impr(whichever_list = info_list)\n"
   ]
  },
  {
   "cell_type": "code",
   "execution_count": 22,
   "metadata": {},
   "outputs": [
    {
     "output_type": "stream",
     "name": "stdout",
     "text": [
      "15--> OK Recoletos--> OK True--> OK ['Recoletos', 15]--> OK None--> OK 8--> OK  <class 'str'>\n"
     ]
    },
    {
     "output_type": "execute_result",
     "data": {
      "text/plain": [
       "'everything will be ok'"
      ]
     },
     "metadata": {},
     "execution_count": 22
    }
   ],
   "source": [
    "# Apartado 2: imprimo los elementos concatenados \n",
    "\n",
    "def impr2(whichever_list):\n",
    "    \"\"\" prints the elements concatenated\n",
    "        *Args = info_list\n",
    "    \"\"\"\n",
    "    acum = 0\n",
    "    x = \"\"\n",
    "    while acum < 6:\n",
    "        x = x + str(whichever_list[acum])+ \"--> OK \"\n",
    "        acum += 1\n",
    "    print(x, type(x))\n",
    "    return \"everything will be ok\"\n",
    "impr2(whichever_list = info_list)"
   ]
  },
  {
   "cell_type": "code",
   "execution_count": 40,
   "metadata": {},
   "outputs": [
    {
     "output_type": "stream",
     "name": "stdout",
     "text": [
      "Recoletos True ['Recoletos', 15] None 8 \n"
     ]
    },
    {
     "output_type": "execute_result",
     "data": {
      "text/plain": [
       "15"
      ]
     },
     "metadata": {},
     "execution_count": 40
    }
   ],
   "source": [
    "# Apartado 3: imprimo todos los elementos menos el primero, el cual, lo retorno\n",
    "\n",
    "def impr3(whichever_list):\n",
    "    \"\"\" prints the elements except the first one. return the first element\n",
    "        *Args = info_list\n",
    "    \"\"\"\n",
    "    acum = 1\n",
    "    while acum < 6:\n",
    "        print(whichever_list[acum], end=\" \")\n",
    "        acum += 1\n",
    "    print(\"\")\n",
    "    y = whichever_list[0]\n",
    "    return y\n",
    "    \n",
    "impr3(whichever_list = info_list)\n",
    "\n"
   ]
  },
  {
   "cell_type": "code",
   "execution_count": 41,
   "metadata": {},
   "outputs": [
    {
     "output_type": "stream",
     "name": "stdout",
     "text": [
      "15 Recoletos True ['Recoletos', 15] None \n"
     ]
    },
    {
     "output_type": "execute_result",
     "data": {
      "text/plain": [
       "'8'"
      ]
     },
     "metadata": {},
     "execution_count": 41
    }
   ],
   "source": [
    "# Apartado 4: imprimo todos los elementos menos el último, el cual, lo retorno\n",
    "\n",
    "\n",
    "def impr4(whichever_list):\n",
    "    \"\"\" prints the elements except the last one. return the first element\n",
    "        *Args = info_list\n",
    "    \"\"\"\n",
    "    acum = 0\n",
    "    while acum < 5:\n",
    "        print(whichever_list[acum], end=\" \")\n",
    "        acum += 1\n",
    "    print(\"\")\n",
    "    y = whichever_list[5]\n",
    "    return y\n",
    "    \n",
    "impr4(whichever_list = info_list)"
   ]
  },
  {
   "cell_type": "code",
   "execution_count": null,
   "metadata": {},
   "outputs": [],
   "source": []
  },
  {
   "cell_type": "markdown",
   "metadata": {},
   "source": [
    "### Exercise 3. "
   ]
  },
  {
   "cell_type": "markdown",
   "metadata": {},
   "source": [
    "1. Define a function that performs the [Fibonacci series](https://quantdare.com/numeros-de-fibonacci/#:~:text=En%20matem%C3%A1ticas%2C%20la%20sucesi%C3%B3n%20o,nombre%20de%20n%C3%BAmero%20de%20Fibonacci.) with a `while`."
   ]
  },
  {
   "cell_type": "code",
   "execution_count": 32,
   "metadata": {},
   "outputs": [
    {
     "output_type": "stream",
     "name": "stdout",
     "text": [
      "0 1 2 3 5 8 13 21 34 55 89 144 233 377 610 987 1597 "
     ]
    }
   ],
   "source": [
    "# Voy a poner que llegue hasta 1597 para que no sea un bucle infinito.\n",
    "x = 0\n",
    "y = 1\n",
    "print(x, end=\" \")\n",
    "while True:\n",
    "    z = x + y\n",
    "    print(z, end=\" \")\n",
    "    x = y\n",
    "    y = z\n",
    "    if z == 1597:\n",
    "        break\n",
    "\n"
   ]
  },
  {
   "cell_type": "markdown",
   "metadata": {},
   "source": [
    "### Exercise 4."
   ]
  },
  {
   "cell_type": "markdown",
   "metadata": {},
   "source": [
    "To solve the following exercises it will be necessary to define a function for each section. You choose the name of those functions unless specified, but make sure you define a single parameter `whichever_list`, when calling the function it will correspond to the variable `info_list`."
   ]
  },
  {
   "cell_type": "code",
   "execution_count": 33,
   "metadata": {},
   "outputs": [],
   "source": [
    "# you can use this list or take yours from Practice 3\n",
    "info_list = [15, 'Recoletos', True, ['Recoletos', 15],  None, '8'] "
   ]
  },
  {
   "cell_type": "markdown",
   "metadata": {},
   "source": [
    "1. Define a function that saves the value of `\"nothing\"` in a variable and print it. Also, concatenate its value with the number of The Bridge and display it on the screen. \n",
    "\n",
    "   Also, display a boolean **True** if the length of the concatenated word is 6. If not, it will be **False**. The function must return the value **True** or **False** and the name of this function will be `f_s`."
   ]
  },
  {
   "cell_type": "code",
   "execution_count": 13,
   "metadata": {},
   "outputs": [
    {
     "output_type": "stream",
     "name": "stdout",
     "text": [
      "nothing\nnothing15\n"
     ]
    },
    {
     "output_type": "execute_result",
     "data": {
      "text/plain": [
       "True"
      ]
     },
     "metadata": {},
     "execution_count": 13
    }
   ],
   "source": [
    "\"\"\"\n",
    "he usado como valor 9 para que me retornase true dado que sino  no podría hace rel siguiente apartado\n",
    "\"\"\"\n",
    "def f_s(whichever_list):\n",
    "     \n",
    "    x = \"nothing\"\n",
    "    print(x)\n",
    "    y = x + str(15)\n",
    "    print(y)\n",
    "    \n",
    "    z = (len(y) == 9)\n",
    "    return z\n",
    "\n",
    "f_s(whichever_list = info_list)"
   ]
  },
  {
   "cell_type": "markdown",
   "metadata": {},
   "source": [
    "### Bonus Track."
   ]
  },
  {
   "cell_type": "markdown",
   "metadata": {},
   "source": [
    "2. Create a list `list_aux` with 7 elements, whichever you want. Next, create a function `function_use_f_s` which receives as parameters a function `some_function` and whichever list `whichever_list`. If the value of `some_function` is **True**, then delete an item from `whichever_list`. Repeat the process until `whichever_list` has no elements. The argument for `whichever_list` must be `list_aux` and for `some_function` it will be the function `f_s` from the previous point."
   ]
  },
  {
   "cell_type": "code",
   "execution_count": 18,
   "metadata": {},
   "outputs": [
    {
     "output_type": "stream",
     "name": "stdout",
     "text": [
      "nothing\nnothing15\n[2, 3, 4, 5, 6, 7]\n[3, 4, 5, 6, 7]\n[4, 5, 6, 7]\n[5, 6, 7]\n[6, 7]\n[7]\n[]\n"
     ]
    },
    {
     "output_type": "execute_result",
     "data": {
      "text/plain": [
       "[]"
      ]
     },
     "metadata": {},
     "execution_count": 18
    }
   ],
   "source": [
    "list_aux = [1, 2, 3, 4, 5, 6, 7]\n",
    "def function_use_f_s(some_function, whichever_list):\n",
    "    if some_function == True:\n",
    "        acum = 0\n",
    "        while acum < 7:\n",
    "            whichever_list.pop(0)\n",
    "            print(whichever_list)\n",
    "            acum += 1\n",
    "    return whichever_list\n",
    "\n",
    "\n",
    "function_use_f_s(some_function = f_s(whichever_list = info_list), whichever_list = list_aux)"
   ]
  },
  {
   "cell_type": "markdown",
   "metadata": {},
   "source": [
    "3. Define a function `even_numbers` that has an input parameter `arg1`, type integer. The function must return a list of numbers of size `arg1`, all of them being even numbers. \n",
    "\n",
    "   Don't use the function `print()` inside the function, but print what `even_numbers` returns when calling it with the argument `10`, just to check your function works.\n",
    "   \n",
    "```python\n",
    "print(even_numbers(10))\n",
    "```"
   ]
  },
  {
   "cell_type": "code",
   "execution_count": 22,
   "metadata": {},
   "outputs": [
    {
     "output_type": "stream",
     "name": "stdout",
     "text": [
      "[0, 2]\n[0, 2, 4, 6, 8, 10, 12, 14, 16, 18]\n"
     ]
    }
   ],
   "source": [
    "def even_numbers(arg1):\n",
    "    acum = 0\n",
    "    acum1 = 0\n",
    "    evennumber = []\n",
    "    while acum < arg1:\n",
    "        evennumber.append(acum1)\n",
    "        acum += 1\n",
    "        acum1 = acum1 + 2\n",
    "    return evennumber\n",
    "print(even_numbers(arg1 = int(input())))\n",
    "\n",
    "print(even_numbers(10))"
   ]
  },
  {
   "cell_type": "markdown",
   "metadata": {},
   "source": [
    "4. Create a function that has an input variable `arg1`, which will be the list of even numbers from the previous section, and that removes elements from the list, one by one, if `arg1` has a size divisible by 2 and, if not, it adds just once, the value of the function `f_s` that should be a boolean (`True` or `False`).\n"
   ]
  },
  {
   "source": [
    "### Lo he hecho de dos formas dado que no he entendido muy bien si el arg1 piden que esté dentro de la función o puede ser exterior.\n",
    "### Por ello en el primer caso lo he hecho con arg1 dentro de la función pero sin invocar a la función creada en el apartado anterior. \n",
    "### En el segundo caso lo he hecho con arg1 fuera de la función pero invocando a la función anterior."
   ],
   "cell_type": "markdown",
   "metadata": {}
  },
  {
   "cell_type": "code",
   "execution_count": 31,
   "metadata": {},
   "outputs": [
    {
     "output_type": "stream",
     "name": "stdout",
     "text": [
      "nothing\nnothing15\nlista creada:  [0, 2, 4, 6, 8]\n[0, 2, 4, 6, 8, True]\n"
     ]
    }
   ],
   "source": [
    "# Primer caso:\n",
    "\n",
    "def last_function(arg1, arg2):\n",
    "    acum = 0\n",
    "    acum1 = 0\n",
    "    evennumber = []\n",
    "\n",
    "    while acum < arg1:\n",
    "        evennumber.append(acum1)\n",
    "        acum += 1\n",
    "        acum1 = acum1 + 2\n",
    "\n",
    "    print(\"lista creada: \", evennumber)\n",
    "   \n",
    "    if arg1 % 2 == 0:\n",
    "        a = 0\n",
    "        while a < arg1:\n",
    "            evennumber.pop(0)\n",
    "            a += 1\n",
    "            print(evennumber) \n",
    "    else:\n",
    "        evennumber.append(arg2)\n",
    "        print(evennumber)\n",
    "\n",
    "last_function(arg1 = int(input()), arg2 = f_s(whichever_list = info_list))\n"
   ]
  },
  {
   "cell_type": "code",
   "execution_count": 34,
   "metadata": {},
   "outputs": [
    {
     "output_type": "stream",
     "name": "stdout",
     "text": [
      "nothing\nnothing15\n[0, 2, 4, 6, 8]\n[0, 2, 4, 6, 8, True]\n"
     ]
    }
   ],
   "source": [
    "# Segundo caso:\n",
    "\n",
    "arg1 = int(input())\n",
    "\n",
    "def last_function(evennumber, arg2):\n",
    "    \n",
    "    z = even_numbers(arg1)\n",
    "    print(z)\n",
    "    if arg1 % 2 == 0:\n",
    "        a = 0\n",
    "        while a < arg1:\n",
    "            evennumber.pop(0)\n",
    "            a += 1\n",
    "            print(evennumber) \n",
    "    else:\n",
    "        evennumber.append(arg2)\n",
    "        print(evennumber)\n",
    "\n",
    "last_function(evennumber = even_numbers(arg1), arg2 = f_s(whichever_list = info_list))"
   ]
  },
  {
   "cell_type": "markdown",
   "metadata": {},
   "source": [
    "!['nicetry'](https://i.pinimg.com/originals/36/ab/81/36ab81cd8d63cf7c4a08f39403698c77.jpg)"
   ]
  },
  {
   "cell_type": "code",
   "execution_count": null,
   "metadata": {},
   "outputs": [],
   "source": []
  }
 ],
 "metadata": {
  "kernelspec": {
   "display_name": "Python 3",
   "language": "python",
   "name": "python3"
  },
  "language_info": {
   "codemirror_mode": {
    "name": "ipython",
    "version": 3
   },
   "file_extension": ".py",
   "mimetype": "text/x-python",
   "name": "python",
   "nbconvert_exporter": "python",
   "pygments_lexer": "ipython3",
   "version": "3.8.3-final"
  }
 },
 "nbformat": 4,
 "nbformat_minor": 4
}