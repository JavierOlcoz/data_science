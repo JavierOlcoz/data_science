{
 "cells": [
  {
   "cell_type": "markdown",
   "metadata": {},
   "source": [
    "# Python | day 2 | collections"
   ]
  },
  {
   "cell_type": "markdown",
   "metadata": {},
   "source": [
    "List, tuples & sets"
   ]
  },
  {
   "cell_type": "markdown",
   "metadata": {},
   "source": [
    "May help you https://www.w3schools.com/python/python_ref_list.asp\n",
    "    \n",
    "    Thanks Antonio!"
   ]
  },
  {
   "cell_type": "markdown",
   "metadata": {},
   "source": [
    "### Exercise 1. "
   ]
  },
  {
   "cell_type": "markdown",
   "metadata": {},
   "source": [
    "1. Create:\n",
    "    - a list type variable called **student_list** which contains the name of your classmates. \n",
    "    - 4 differents lists containing the names of the classmates sitting on each table of the class plus the ones following the class on remote.  \n",
    "    \n",
    "If you're not in class anymore and you don't remember how the class was distributed, use the names of your classmates and make 4 different lists with them.\n",
    "\n",
    "Print both created lists. "
   ]
  },
  {
   "cell_type": "code",
   "execution_count": 539,
   "metadata": {},
   "outputs": [
    {
     "output_type": "stream",
     "name": "stdout",
     "text": [
      "range(0, 19)\n"
     ]
    },
    {
     "output_type": "execute_result",
     "data": {
      "text/plain": [
       "['Álex Balseiro',\n",
       " 'Alfonso García',\n",
       " 'Anais',\n",
       " 'Antonio Leal',\n",
       " 'Ariadna Puigventos',\n",
       " 'Daniel del Valle',\n",
       " 'Estela Falgas',\n",
       " 'Javier Gil Antuñano',\n",
       " 'Javier Olcoz',\n",
       " 'Juan Guerrero',\n",
       " 'Kapil Dadlani',\n",
       " 'Leonardo Sánchez',\n",
       " 'Ma Rguezvi',\n",
       " 'María del Mar Delgado',\n",
       " 'Marta',\n",
       " 'Miguel',\n",
       " 'Miguel Merry del Val',\n",
       " 'Roberto Molleda',\n",
       " 'Xeles']"
      ]
     },
     "metadata": {},
     "execution_count": 539
    }
   ],
   "source": [
    "# Lista de clase\n",
    "# Somos 18 y en la lista tengo 19, alguno habré repetido pero son los nombres que he sacado de los miembros de data-science en Slack.\n",
    "\n",
    "student_list = [\"Álex Balseiro\", \"Alfonso García\", \"Anais\", \"Antonio Leal\", \"Ariadna Puigventos\", \"Daniel del Valle\", \"Estela Falgas\", \"Javier Gil Antuñano\", \"Javier Olcoz\", \"Juan Guerrero\", \"Kapil Dadlani\", \"Leonardo Sánchez\", \"Ma Rguezvi\", \"María del Mar Delgado\", \"Marta\", \"Miguel\", \"Miguel Merry del Val\", \"Roberto Molleda\", \"Xeles\"]\n",
    "\n",
    "print(range(len(student_list)))\n",
    "student_list"
   ]
  },
  {
   "cell_type": "code",
   "execution_count": 540,
   "metadata": {},
   "outputs": [
    {
     "output_type": "stream",
     "name": "stdout",
     "text": [
      "['Alfonso García', 'Xeles', 'Marta', 'Juan Guerrero']\n['Estela Falgas', 'Ma Rguezvi', 'Leonardo Sánchez', 'Daniel del Valle']\n['Miguel', 'Miguel Merry del Val', 'Roberto Molleda', 'Kapil Dadlani', 'Roberto Molleda']\n['Javier Olcoz', 'Ariadna Puidventos', 'Anais', 'Antonio Leal', 'Alex Balseiro', ' Javier Gil Antuñano']\n"
     ]
    }
   ],
   "source": [
    "# Como soy remoto no sé muy bien dónde se sienta cada uno así que haré 4 listas dividiendo a los 19 según creo que estén distribuidos en clase.\n",
    "\n",
    "# Lista 1: primera inventada fila\n",
    "\n",
    "primera_fila = [\"Alfonso García\", \"Xeles\", \"Marta\", \"Juan Guerrero\"]\n",
    "\n",
    "# Lista 2: Segunda inventada fila\n",
    "\n",
    "segunda_fila = [\"Estela Falgas\", \"Ma Rguezvi\", \"Leonardo Sánchez\", \"Daniel del Valle\"]\n",
    "\n",
    "# Lista 3: Tercera inventada fila\n",
    "\n",
    "tercera_fila = [\"Miguel\", \"Miguel Merry del Val\", \"Roberto Molleda\", \"Kapil Dadlani\", \"Roberto Molleda\"]\n",
    "\n",
    "# Lista 4: Remotos\n",
    "\n",
    "remotos = [\"Javier Olcoz\", \"Ariadna Puidventos\", \"Anais\", \"Antonio Leal\", \"Alex Balseiro\", \" Javier Gil Antuñano\"]\n",
    "\n",
    "# Imprimimos todos por panatalla\n",
    "\n",
    "print(primera_fila)\n",
    "print(segunda_fila)\n",
    "print(tercera_fila)\n",
    "print(remotos)"
   ]
  },
  {
   "cell_type": "code",
   "execution_count": 541,
   "metadata": {},
   "outputs": [
    {
     "output_type": "stream",
     "name": "stdout",
     "text": [
      "range(0, 19)\n1. student list:  ['Álex Balseiro', 'Alfonso García', 'Anais', 'Antonio Leal', 'Ariadna Puigventos', 'Daniel del Valle', 'Estela Falgas', 'Javier Gil Antuñano', 'Javier Olcoz', 'Juan Guerrero', 'Kapil Dadlani', 'Leonardo Sánchez', 'Ma Rguezvi', 'María del Mar Delgado', 'Marta', 'Miguel', 'Miguel Merry del Val', 'Roberto Molleda', 'Xeles']\n2. primera lista:  ['Alfonso García', 'Xeles', 'Marta', 'Juan Guerrero']\n3. segunda lista:  ['Estela Falgas', 'Ma Rguezvi', 'Leonardo Sánchez', 'Daniel del Valle']\n4. tercera lista:  ['Miguel', 'Miguel Merry del Val', 'Roberto Molleda', 'Kapil Dadlani', 'Roberto Molleda']\n5. remotos lista:  ['Javier Olcoz', 'Ariadna Puidventos', 'Anais', 'Antonio Leal', 'Alex Balseiro', ' Javier Gil Antuñano']\n"
     ]
    }
   ],
   "source": [
    "# Creo que también se pida imprimir todas las listas juntas pero no he entendido si solo eran las 4 del apartado b o esas 4 más la del primer apartado, por lo que las imprimo ahora todas\n",
    "print(range(len(student_list)))\n",
    "print(\"1. student list: \", student_list)\n",
    "print(\"2. primera lista: \", primera_fila)\n",
    "print(\"3. segunda lista: \", segunda_fila)\n",
    "print(\"4. tercera lista: \", tercera_fila)\n",
    "print(\"5. remotos lista: \", remotos)\n",
    "\n"
   ]
  },
  {
   "cell_type": "markdown",
   "metadata": {},
   "source": [
    "### Exercise 2"
   ]
  },
  {
   "cell_type": "markdown",
   "metadata": {},
   "source": [
    "1. Create an empty list, call it **empty_list**"
   ]
  },
  {
   "cell_type": "code",
   "execution_count": 542,
   "metadata": {},
   "outputs": [
    {
     "output_type": "stream",
     "name": "stdout",
     "text": [
      "[]\n"
     ]
    }
   ],
   "source": [
    "empty_list = []\n",
    "print(empty_list)"
   ]
  },
  {
   "cell_type": "markdown",
   "metadata": {},
   "source": [
    "2. Create a list with 5 items, call it **my_list**"
   ]
  },
  {
   "cell_type": "code",
   "execution_count": 543,
   "metadata": {},
   "outputs": [
    {
     "output_type": "execute_result",
     "data": {
      "text/plain": [
       "['bolígrafo', 'lapiz', 'goma', 'estuche', 'cuaderno']"
      ]
     },
     "metadata": {},
     "execution_count": 543
    }
   ],
   "source": [
    "# Creo la lista con 5 item random que se me han ocurrido.\n",
    "my_list = [\"bolígrafo\", \"lapiz\", \"goma\", \"estuche\", \"cuaderno\"]\n",
    "my_list"
   ]
  },
  {
   "cell_type": "markdown",
   "metadata": {},
   "source": [
    "3. Find the length of **my_list**\n",
    "\n"
   ]
  },
  {
   "cell_type": "code",
   "execution_count": 544,
   "metadata": {},
   "outputs": [
    {
     "output_type": "stream",
     "name": "stdout",
     "text": [
      "5\n"
     ]
    }
   ],
   "source": [
    "# Longitud de my_list\n",
    "print(len(my_list))"
   ]
  },
  {
   "cell_type": "markdown",
   "metadata": {},
   "source": [
    "4. Get the first item, the middle item and the last item of **my_list**\n",
    "\n"
   ]
  },
  {
   "cell_type": "code",
   "execution_count": 545,
   "metadata": {},
   "outputs": [
    {
     "output_type": "stream",
     "name": "stdout",
     "text": [
      "['bolígrafo', 'goma', 'cuaderno']\n"
     ]
    }
   ],
   "source": [
    "# Crearé una nueva lista con dichos items a partir de la ya creada\n",
    "other_list = [my_list[0], my_list[2], my_list[4]]\n",
    "print(other_list)"
   ]
  },
  {
   "cell_type": "markdown",
   "metadata": {},
   "source": [
    "5. Declare:\n",
    "    - a **name** variable and assign a value to it\n",
    "    - a **age** variable and assign a value to it\n",
    "    - a **height** variable and assign a value to it\n",
    "    - a **country** variable and assign a value to it\n",
    "    - a **python_version** variable and assign a value to it\n"
   ]
  },
  {
   "cell_type": "code",
   "execution_count": 546,
   "metadata": {},
   "outputs": [
    {
     "output_type": "stream",
     "name": "stdout",
     "text": [
      "Javier 23 1.83 Spain 3.8.3 the best version\n"
     ]
    }
   ],
   "source": [
    "# Declaro las variables pedidas\n",
    "\n",
    "name = \"Javier\"\n",
    "age = 23\n",
    "height = 1.83\n",
    "country = \"Spain\"\n",
    "python_version = \"3.8.3 the best version\"\n",
    "print(name, age, height, country, python_version)"
   ]
  },
  {
   "cell_type": "markdown",
   "metadata": {},
   "source": [
    "6. Create a list called **mixed_data_types** with your name, age, height, country and python_version.\n",
    "\n"
   ]
  },
  {
   "cell_type": "code",
   "execution_count": 547,
   "metadata": {},
   "outputs": [
    {
     "output_type": "stream",
     "name": "stdout",
     "text": [
      "['Javier', 23, 1.83, 'Spain', '3.8.3 the best version']\n"
     ]
    }
   ],
   "source": [
    "# Creo la lista pedida con las variables anteriores\n",
    "\n",
    "mixed_data_types = [name, age, height, country, python_version]\n",
    "print(mixed_data_types)"
   ]
  },
  {
   "cell_type": "markdown",
   "metadata": {},
   "source": [
    "7. Declare a list variable named **it_companies** and assign initial values Facebook, Google, Microsoft, Apple, IBM, Oracle and Amazon.\n"
   ]
  },
  {
   "cell_type": "code",
   "execution_count": 548,
   "metadata": {},
   "outputs": [
    {
     "output_type": "stream",
     "name": "stdout",
     "text": [
      "['Facebook', 'Google', 'Microsoft', 'Apple', 'IBM', 'Oracle', 'Amazon']\n"
     ]
    }
   ],
   "source": [
    "# Creo la lista con las compañías proporcionadas.\n",
    "\n",
    "it_companies = [\"Facebook\", \"Google\", \"Microsoft\", \"Apple\", \"IBM\", \"Oracle\", \"Amazon\"]\n",
    "print(it_companies)"
   ]
  },
  {
   "cell_type": "markdown",
   "metadata": {},
   "source": [
    "\n",
    "8. Print **it_companies** using print()\n",
    "\n"
   ]
  },
  {
   "cell_type": "code",
   "execution_count": 549,
   "metadata": {},
   "outputs": [
    {
     "output_type": "stream",
     "name": "stdout",
     "text": [
      "['Facebook', 'Google', 'Microsoft', 'Apple', 'IBM', 'Oracle', 'Amazon']\n"
     ]
    }
   ],
   "source": [
    "# Ya lo hice en el apartado anterior, así que copio y pego el comando pedido.\n",
    "\n",
    "print(it_companies)"
   ]
  },
  {
   "cell_type": "markdown",
   "metadata": {},
   "source": [
    "9. Print the number of companies in the list"
   ]
  },
  {
   "cell_type": "code",
   "execution_count": 550,
   "metadata": {},
   "outputs": [
    {
     "output_type": "stream",
     "name": "stdout",
     "text": [
      "7\n"
     ]
    }
   ],
   "source": [
    "# Lo imprimo a través del comando len.\n",
    "\n",
    "print(len(it_companies))\n"
   ]
  },
  {
   "cell_type": "markdown",
   "metadata": {},
   "source": [
    "11. Print *Google*"
   ]
  },
  {
   "cell_type": "code",
   "execution_count": 551,
   "metadata": {},
   "outputs": [
    {
     "output_type": "stream",
     "name": "stdout",
     "text": [
      "Google\n"
     ]
    }
   ],
   "source": [
    "# Para imprimir Google le pido que imprima el elemento que se encuentra en la posición 1 (contando desde 0) de la lista de compañias\n",
    "\n",
    "print(it_companies[1])"
   ]
  },
  {
   "cell_type": "markdown",
   "metadata": {},
   "source": [
    "10. Print the first, middle and last company"
   ]
  },
  {
   "cell_type": "code",
   "execution_count": 552,
   "metadata": {},
   "outputs": [
    {
     "output_type": "stream",
     "name": "stdout",
     "text": [
      "Facebook Apple Amazon\n"
     ]
    }
   ],
   "source": [
    "# Hago exactamente lo mismo que en el apartado anterior pero con las posiciones pedidas.\n",
    "\n",
    "print(it_companies[0], it_companies[3], it_companies[-1])"
   ]
  },
  {
   "cell_type": "markdown",
   "metadata": {},
   "source": [
    "11. Assign a new value to the last element of the list "
   ]
  },
  {
   "cell_type": "code",
   "execution_count": 553,
   "metadata": {},
   "outputs": [
    {
     "output_type": "stream",
     "name": "stdout",
     "text": [
      "['Facebook', 'Google', 'Microsoft', 'Apple', 'IBM', 'Oracle']\n['Facebook', 'Google', 'Microsoft', 'Apple', 'IBM', 'Oracle', 'Chupachups']\n"
     ]
    }
   ],
   "source": [
    "# Quito la empresa de Amazon y añado Chupachups.\n",
    "it_companies.remove(\"Amazon\")\n",
    "print(it_companies)\n",
    "it_companies.append(\"Chupachups\")\n",
    "print(it_companies)\n",
    "\n"
   ]
  },
  {
   "cell_type": "markdown",
   "metadata": {},
   "source": [
    "12. Print the list after modifying one of the companies"
   ]
  },
  {
   "cell_type": "code",
   "execution_count": 554,
   "metadata": {},
   "outputs": [
    {
     "output_type": "stream",
     "name": "stdout",
     "text": [
      "['Facebook', 'Google', 'Microsoft', 'Apple', 'IBM', 'Oracle', 'Chupachups']\n['Facebook', 'Google', 'Pepsi', 'Microsoft', 'Apple', 'IBM', 'Oracle', 'Chupachups']\n['Facebook', 'Google', 'Pepsi', 'Apple', 'IBM', 'Oracle', 'Chupachups']\n"
     ]
    }
   ],
   "source": [
    "# Añado Pepsi y quito Microsoft modificacndo así el elemento que estaba en dicha posición.\n",
    "print(it_companies)\n",
    "it_companies.insert(2, \"Pepsi\")\n",
    "print(it_companies)\n",
    "it_companies.pop(3)\n",
    "print(it_companies)\n"
   ]
  },
  {
   "cell_type": "markdown",
   "metadata": {},
   "source": [
    "## Bonus track."
   ]
  },
  {
   "cell_type": "markdown",
   "metadata": {},
   "source": [
    "13. Add an IT company to **it_companies**\n",
    "\n"
   ]
  },
  {
   "cell_type": "code",
   "execution_count": 555,
   "metadata": {},
   "outputs": [
    {
     "output_type": "stream",
     "name": "stdout",
     "text": [
      "['Facebook', 'Google', 'Pepsi', 'Apple', 'IBM', 'Oracle', 'Chupachups', 'SAP']\n"
     ]
    }
   ],
   "source": [
    "# Añado la compañía SAP\n",
    "it_companies.append(\"SAP\")\n",
    "print(it_companies)"
   ]
  },
  {
   "cell_type": "markdown",
   "metadata": {},
   "source": [
    "14. Check if *Apple* exists in the **it_companies** list."
   ]
  },
  {
   "cell_type": "code",
   "execution_count": 556,
   "metadata": {},
   "outputs": [
    {
     "output_type": "stream",
     "name": "stdout",
     "text": [
      "1\n"
     ]
    }
   ],
   "source": [
    "# Para ello uso el comando count() y vemos que si el número que devuelve es igual o mayor que 1, es que al menos hay 1 coincidencia en la lista y por lo tanto existe dicho elemento.\n",
    "print(it_companies.count(\"Apple\"))\n"
   ]
  },
  {
   "cell_type": "markdown",
   "metadata": {},
   "source": [
    "15. Sort the list using `sort()` method\n",
    "\n"
   ]
  },
  {
   "cell_type": "code",
   "execution_count": 557,
   "metadata": {},
   "outputs": [
    {
     "output_type": "stream",
     "name": "stdout",
     "text": [
      "None\n['Apple', 'Chupachups', 'Facebook', 'Google', 'IBM', 'Oracle', 'Pepsi', 'SAP']\n"
     ]
    }
   ],
   "source": [
    "# Ordeno alfabéticamente la lista\n",
    "print(it_companies.sort())\n",
    "print(it_companies)"
   ]
  },
  {
   "cell_type": "markdown",
   "metadata": {},
   "source": [
    "16. Reverse the list in descending order using `reverse()` method\n",
    "\n"
   ]
  },
  {
   "cell_type": "code",
   "execution_count": 558,
   "metadata": {},
   "outputs": [
    {
     "output_type": "stream",
     "name": "stdout",
     "text": [
      "None\n['SAP', 'Pepsi', 'Oracle', 'IBM', 'Google', 'Facebook', 'Chupachups', 'Apple']\n"
     ]
    }
   ],
   "source": [
    "\n",
    "print(it_companies.reverse())\n",
    "print(it_companies)"
   ]
  },
  {
   "cell_type": "markdown",
   "metadata": {},
   "source": [
    "17. Slice out the first 3 companies from the list\n",
    "\n"
   ]
  },
  {
   "cell_type": "code",
   "execution_count": 559,
   "metadata": {},
   "outputs": [
    {
     "output_type": "stream",
     "name": "stdout",
     "text": [
      "['SAP', 'Pepsi', 'Oracle', 'IBM', 'Google', 'Facebook', 'Chupachups', 'Apple']\n['IBM', 'Google', 'Facebook', 'Chupachups', 'Apple']\n"
     ]
    }
   ],
   "source": [
    "# Quito las tres primeras compañías de la lista\n",
    "print(it_companies)\n",
    "it_companies.pop(0)\n",
    "it_companies.pop(0)\n",
    "it_companies.pop(0)\n",
    "print(it_companies)\n",
    "\n",
    "\n"
   ]
  },
  {
   "cell_type": "markdown",
   "metadata": {},
   "source": [
    "18. Remove the last IT company from the list\n"
   ]
  },
  {
   "cell_type": "code",
   "execution_count": 560,
   "metadata": {},
   "outputs": [
    {
     "output_type": "stream",
     "name": "stdout",
     "text": [
      "['Google', 'Facebook', 'Chupachups', 'Apple']\n"
     ]
    }
   ],
   "source": [
    "# Creo que la única compañía de IT que queda es IBM.\n",
    "it_companies.remove(\"IBM\")\n",
    "print(it_companies)"
   ]
  },
  {
   "cell_type": "markdown",
   "metadata": {},
   "source": [
    "19. Remove all IT companies from the list"
   ]
  },
  {
   "cell_type": "code",
   "execution_count": 561,
   "metadata": {},
   "outputs": [
    {
     "output_type": "stream",
     "name": "stdout",
     "text": [
      "['Google', 'Facebook', 'Chupachups']\n"
     ]
    }
   ],
   "source": [
    "# No queda ninguna pero por quitar algo, voy a considerar que Apple sea una IT también.\n",
    "it_companies.remove(\"Apple\")\n",
    "print(it_companies)"
   ]
  },
  {
   "cell_type": "markdown",
   "metadata": {},
   "source": [
    "20. Join the following lists, and call the list **end**:\n",
    "\n",
    "```python\n",
    "front_end = [['HTML', 'CSS'], 'JS', 'React', 'Redux']\n",
    "back_end = ['Node','Express', 'MongoDB']\n",
    "```"
   ]
  },
  {
   "cell_type": "code",
   "execution_count": 562,
   "metadata": {},
   "outputs": [
    {
     "output_type": "execute_result",
     "data": {
      "text/plain": [
       "[['HTML', 'CSS'], 'JS', 'React', 'Redux', 'Node', 'Express', 'MongoDB']"
      ]
     },
     "metadata": {},
     "execution_count": 562
    }
   ],
   "source": [
    "# Declaro las listas ya creadas y luego las uno:\n",
    "\n",
    "front_end = [[\"HTML\", \"CSS\"],\"JS\", \"React\", \"Redux\"]\n",
    "back_end = [\"Node\", \"Express\", \"MongoDB\"]\n",
    "\n",
    "end = front_end + back_end\n",
    "end"
   ]
  },
  {
   "cell_type": "markdown",
   "metadata": {},
   "source": [
    "21. From the **end** list print 'HTML'"
   ]
  },
  {
   "cell_type": "code",
   "execution_count": 563,
   "metadata": {},
   "outputs": [
    {
     "output_type": "stream",
     "name": "stdout",
     "text": [
      "HTML\n"
     ]
    }
   ],
   "source": [
    "# Le mano que imprima el elemento en el que se encuentra HTML\n",
    "print(end[0][0])"
   ]
  },
  {
   "cell_type": "markdown",
   "metadata": {},
   "source": [
    "22. From the end list print the 'C' from the word 'CSS'"
   ]
  },
  {
   "cell_type": "code",
   "execution_count": 564,
   "metadata": {},
   "outputs": [
    {
     "output_type": "stream",
     "name": "stdout",
     "text": [
      "C\n"
     ]
    }
   ],
   "source": [
    "# Le mano que imprima el elemento en el que se encuentra C\n",
    "print(end[0][1][0])"
   ]
  },
  {
   "cell_type": "markdown",
   "metadata": {},
   "source": [
    "### Exercise 3. "
   ]
  },
  {
   "cell_type": "markdown",
   "metadata": {},
   "source": [
    "Do you know you can create tuples with only one element?\n",
    "\n",
    "1. In the cell below, define a variable **tup** with a single element \"T\".\n",
    "\n",
    "Hint: you need to add a comma (,) after the single element."
   ]
  },
  {
   "cell_type": "code",
   "execution_count": 565,
   "metadata": {},
   "outputs": [
    {
     "output_type": "stream",
     "name": "stdout",
     "text": [
      "('T',)\n<class 'tuple'>\n"
     ]
    }
   ],
   "source": [
    "# Declaro la tupla pedida y luego la imprimo junto con su type para ratificar que es del tip tuple.\n",
    "tup = (\"T\",)\n",
    "print(tup)\n",
    "print(type(tup))"
   ]
  },
  {
   "cell_type": "markdown",
   "metadata": {},
   "source": [
    "2. Print the type of tup.\n",
    "Make sure its type is correct (i.e. tuple instead of str)."
   ]
  },
  {
   "cell_type": "code",
   "execution_count": 566,
   "metadata": {},
   "outputs": [
    {
     "output_type": "stream",
     "name": "stdout",
     "text": [
      "<class 'tuple'>\n"
     ]
    }
   ],
   "source": [
    "# Vaya, lo hice en el anterior así que copio y pego esa parte\n",
    "print(type(tup))"
   ]
  },
  {
   "cell_type": "markdown",
   "metadata": {},
   "source": [
    "3. Now try to append the following elements to **tup**.\n",
    "Are you able to do it? Explain.\n",
    "\n",
    "`\"H\", \"E\", \" \", \"B\", \"R\", \"I\", \"D\", \"G\", \"E\",`"
   ]
  },
  {
   "cell_type": "code",
   "execution_count": 567,
   "metadata": {},
   "outputs": [
    {
     "output_type": "execute_result",
     "data": {
      "text/plain": [
       "('T', 'H', 'E', ' ', 'B', 'R', 'I', 'D', 'G', 'E')"
      ]
     },
     "metadata": {},
     "execution_count": 567
    }
   ],
   "source": [
    "# A priori no se podría dado que las tuplas son inmutables pero se me ocurre convertir dicha tupla en lista, añadir lo pedido y volver a convertirla en tupla. \n",
    "\n",
    "tup = list(tup)\n",
    "tup.append(\"H\")\n",
    "tup.append(\"E\")\n",
    "tup.append(\" \")\n",
    "tup.append(\"B\")\n",
    "tup.append(\"R\")\n",
    "tup.append(\"I\")\n",
    "tup.append(\"D\")\n",
    "tup.append(\"G\")\n",
    "tup.append(\"E\")\n",
    "tup = tuple(tup)\n",
    "\n",
    "tup\n"
   ]
  },
  {
   "cell_type": "markdown",
   "metadata": {},
   "source": [
    "4. How about re-assign a new value to an existing tuple?\n",
    "\n",
    "Re-assign the following elements to **tup**. \n",
    "\n",
    "Are you able to do it? Explain.\n",
    "\n",
    "\n",
    "`\"T\", \"H\", \"E\", \" \", \"B\", \"R\", \"I\", \"D\", \"G\", \"E\",`"
   ]
  },
  {
   "cell_type": "code",
   "execution_count": 568,
   "metadata": {},
   "outputs": [
    {
     "output_type": "execute_result",
     "data": {
      "text/plain": [
       "('D', 'I', 'E', ' ', 'B', 'R', 'Ü', 'C', 'K', 'E')"
      ]
     },
     "metadata": {},
     "execution_count": 568
    }
   ],
   "source": [
    "# Al igual que antes, la transformo en lista, reasigno valores y transformo en tupla\n",
    "tup = list(tup)\n",
    "tup.insert(0,\"D\")\n",
    "tup.pop(1)\n",
    "tup.insert(1, \"I\")\n",
    "tup.pop(2)\n",
    "tup.insert(2,\"E\")\n",
    "tup.pop(3)\n",
    "tup.insert(3, \" \")\n",
    "tup.pop(4)\n",
    "tup.insert(4,\"B\")\n",
    "tup.pop(5)\n",
    "tup.insert(5, \"R\")\n",
    "tup.pop(6)\n",
    "tup.insert(6,\"Ü\")\n",
    "tup.pop(7)\n",
    "tup.insert(7, \"C\")\n",
    "tup.pop(8)\n",
    "tup.insert(8,\"K\")\n",
    "tup.pop(9)\n",
    "tup.insert(9, \"E\")\n",
    "tup.pop(10)\n",
    "tup = tuple(tup)\n",
    "\n",
    "tup"
   ]
  },
  {
   "cell_type": "markdown",
   "metadata": {},
   "source": [
    "### Exercise 4. \n",
    "\n",
    "1. Turn **lista_repes** into a *set* in order to get only the uniques values in the list, assing it to a variable called **my_set**"
   ]
  },
  {
   "cell_type": "code",
   "execution_count": 572,
   "metadata": {},
   "outputs": [
    {
     "output_type": "stream",
     "name": "stdout",
     "text": [
      "{'diomedes', 'science', 'gabriel', 'clara', 'python', 'data'}\n"
     ]
    }
   ],
   "source": [
    "lista_repes = [\"data\", \"data\", \"data\", \"science\", \"science\", \"python\", \"python\", \"diomedes\", \"diomedes\", \"diomedes\", \"diomedes\", \"clara\", \"gabriel\", \"gabriel\", \"gabriel\"]\n",
    "\n",
    "# Uso el comando set para hacerlo\n",
    "my_set = set(lista_repes)\n",
    "print(my_set)"
   ]
  },
  {
   "cell_type": "markdown",
   "metadata": {},
   "source": [
    "2. Try to print the first element of **my_set**\n",
    "\n",
    "You did good if you get *TypeError: 'set' object is not subscriptable*."
   ]
  },
  {
   "cell_type": "code",
   "execution_count": 573,
   "metadata": {},
   "outputs": [
    {
     "output_type": "error",
     "ename": "TypeError",
     "evalue": "'set' object is not subscriptable",
     "traceback": [
      "\u001b[1;31m---------------------------------------------------------------------------\u001b[0m",
      "\u001b[1;31mTypeError\u001b[0m                                 Traceback (most recent call last)",
      "\u001b[1;32m<ipython-input-573-502d757570ee>\u001b[0m in \u001b[0;36m<module>\u001b[1;34m\u001b[0m\n\u001b[1;32m----> 1\u001b[1;33m \u001b[0mprint\u001b[0m\u001b[1;33m(\u001b[0m\u001b[0mmy_set\u001b[0m\u001b[1;33m[\u001b[0m\u001b[1;36m0\u001b[0m\u001b[1;33m]\u001b[0m\u001b[1;33m)\u001b[0m\u001b[1;33m\u001b[0m\u001b[1;33m\u001b[0m\u001b[0m\n\u001b[0m",
      "\u001b[1;31mTypeError\u001b[0m: 'set' object is not subscriptable"
     ]
    }
   ],
   "source": [
    "print(my_set[0])"
   ]
  },
  {
   "cell_type": "markdown",
   "metadata": {},
   "source": [
    "3. Turn **my_set** into a list, using the function `list()`. \n",
    "\n",
    "Can you print the first element now?"
   ]
  },
  {
   "cell_type": "code",
   "execution_count": 574,
   "metadata": {},
   "outputs": [
    {
     "output_type": "stream",
     "name": "stdout",
     "text": [
      "diomedes\n"
     ]
    }
   ],
   "source": [
    "my_set = list(my_set)\n",
    "print(my_set[0])"
   ]
  },
  {
   "source": [
    "# ¡HECHO!"
   ],
   "cell_type": "markdown",
   "metadata": {}
  }
 ],
 "metadata": {
  "kernelspec": {
   "display_name": "Python 3",
   "language": "python",
   "name": "python3"
  },
  "language_info": {
   "codemirror_mode": {
    "name": "ipython",
    "version": 3
   },
   "file_extension": ".py",
   "mimetype": "text/x-python",
   "name": "python",
   "nbconvert_exporter": "python",
   "pygments_lexer": "ipython3",
   "version": "3.8.3-final"
  }
 },
 "nbformat": 4,
 "nbformat_minor": 4
}