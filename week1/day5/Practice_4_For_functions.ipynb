{
 "cells": [
  {
   "cell_type": "markdown",
   "metadata": {},
   "source": [
    "# Python | day 4 | for loop, functions (feat. basics & if/else) "
   ]
  },
  {
   "cell_type": "markdown",
   "metadata": {},
   "source": [
    "### Exercise 0.1 - Python Basics\n",
    "\n",
    "1. What do we use to make a line break in a print? And for a tab stop?\n",
    "\n",
    "have a look ---> http://elclubdelautodidacta.es/wp/2012/04/python-capitulo-31-exprimiendo-la-funcion-print/"
   ]
  },
  {
   "cell_type": "code",
   "execution_count": 87,
   "metadata": {},
   "outputs": [
    {
     "output_type": "stream",
     "name": "stdout",
     "text": [
      "a\nb\nc\nd\na\tb\tc\td\n"
     ]
    }
   ],
   "source": [
    "# Line break\n",
    "print(\"a\", \"b\",\"c\", \"d\", sep=\"\\n\")\n",
    "# Tab stop\n",
    "print(\"a\", \"b\", \"c\",\"d\", sep=\"\\t\")"
   ]
  },
  {
   "cell_type": "markdown",
   "metadata": {},
   "source": [
    "2. Make a converter from dollars to euros. You'll have to use input."
   ]
  },
  {
   "cell_type": "code",
   "execution_count": 8,
   "metadata": {},
   "outputs": [
    {
     "output_type": "stream",
     "name": "stdout",
     "text": [
      "introduce your quantity\n",
      "Your number is: 32.6 dollars, which equals 27.384 euros\n"
     ]
    }
   ],
   "source": [
    "# Pido una cantidad\n",
    "\n",
    "dollar = float(input(print(\"introduce your quantity\")))\n",
    "\n",
    "eur = dollar * 0.84 # Equivalencia dólares-euros.\n",
    "\n",
    "print(\"Your number is:\", dollar, \"dollars, which equals\", eur, \"euros\")"
   ]
  },
  {
   "cell_type": "markdown",
   "metadata": {},
   "source": [
    "3. Declare two strings, one will be your first name and the other your last name. Declare your age in another variable. Print a sentence which include those variables, using ```f{}```. Wtf is that? check this out **-->** https://realpython.com/python-string-formatting/"
   ]
  },
  {
   "cell_type": "code",
   "execution_count": 32,
   "metadata": {},
   "outputs": [
    {
     "output_type": "stream",
     "name": "stdout",
     "text": [
      "Me llamo Javier Olcoz y tengo 23 años\n"
     ]
    }
   ],
   "source": [
    "first_name = \"Javier\"\n",
    "last_name = \"Olcoz\"\n",
    "age = 23\n",
    "frase = f'Me llamo {first_name} {last_name} y tengo {age} años'\n",
    "print(frase)"
   ]
  },
  {
   "cell_type": "markdown",
   "metadata": {},
   "source": [
    "4. Given the list `[4,7, -3]`, calculate its maximum, minimum and sum."
   ]
  },
  {
   "cell_type": "code",
   "execution_count": 14,
   "metadata": {},
   "outputs": [
    {
     "output_type": "stream",
     "name": "stdout",
     "text": [
      "7 -3 8\n"
     ]
    }
   ],
   "source": [
    "list = [4, 7, -3]\n",
    "maximo = max(list)\n",
    "minimo = min(list)\n",
    "suma = sum(list)\n",
    "print(maximo, minimo, suma)"
   ]
  },
  {
   "cell_type": "markdown",
   "metadata": {},
   "source": [
    "5. Round `38.38276252728` to 5 decimal places.\n"
   ]
  },
  {
   "cell_type": "code",
   "execution_count": 15,
   "metadata": {},
   "outputs": [
    {
     "output_type": "execute_result",
     "data": {
      "text/plain": [
       "38.38276"
      ]
     },
     "metadata": {},
     "execution_count": 15
    }
   ],
   "source": [
    "x = 38.38276252728\n",
    "round(x, 5)"
   ]
  },
  {
   "cell_type": "markdown",
   "metadata": {},
   "source": [
    "6. Make the phrase `\"Born to be wild\"` uppercase, then lowercase, divide it by spaces, and finally, replace `\"wild\"` with `\"Geek.\"`"
   ]
  },
  {
   "cell_type": "code",
   "execution_count": 18,
   "metadata": {},
   "outputs": [
    {
     "output_type": "stream",
     "name": "stdout",
     "text": [
      "BORN TO BE WILD\nborn to be wild\n['Born', 'to', 'be', 'wild']\nBorn to be Geek\n"
     ]
    }
   ],
   "source": [
    "x = \"Born to be wild\"\n",
    "z = x.upper()\n",
    "print(z)\n",
    "y = x.lower()\n",
    "print(y)\n",
    "w = x.split()\n",
    "print(w)\n",
    "p = x.replace(\"wild\", \"Geek\")\n",
    "print(p)\n"
   ]
  },
  {
   "cell_type": "markdown",
   "metadata": {},
   "source": [
    "7. Create a program where two inputs are collected, and the output of the program is a boolean which tell the user whether those inputs are the same or not.\n"
   ]
  },
  {
   "cell_type": "code",
   "execution_count": 22,
   "metadata": {},
   "outputs": [
    {
     "output_type": "execute_result",
     "data": {
      "text/plain": [
       "False"
      ]
     },
     "metadata": {},
     "execution_count": 22
    }
   ],
   "source": [
    "num1 = float(input())\n",
    "num2 = float(input())\n",
    "num1 == num2\n",
    "   "
   ]
  },
  {
   "cell_type": "markdown",
   "metadata": {},
   "source": []
  },
  {
   "cell_type": "markdown",
   "metadata": {},
   "source": [
    "### Exercise 0.2 - If/else\n",
    "\n",
    "1. Create a decission tree using if/else sentences, to determine the price of the movies ticket. If the client's age is between 5 and 15 years, both included, the price will be 5, if she/he is retired and the movie is one of the `peliculas_discount`, the price is 4. In any other case, it will be 7 euros.\n",
    "\n",
    "You should create the list of `peliculas_discount` with your favourites movies. "
   ]
  },
  {
   "cell_type": "code",
   "execution_count": 5,
   "metadata": {},
   "outputs": [
    {
     "output_type": "stream",
     "name": "stdout",
     "text": [
      "Normal price\n"
     ]
    }
   ],
   "source": [
    "age1 = int(input(\"Introduzca edad\"))\n",
    "\n",
    "if 5 <= age1 <= 15:\n",
    "    print(\"Price = 5\")\n",
    "    \n",
    "elif age1 >= 65:\n",
    "    movie = input(\"Enter film\")\n",
    "    peliculas_discount = [\"gladiator\", \"300\"]  \n",
    "    if (movie == \"gladiator\" or movie ==\"300\"):\n",
    "        print(\"Price = 4\")\n",
    "    else: \n",
    "        print(\"Normal price\")\n",
    "else: \n",
    "    print(\"Normal price\")\n"
   ]
  },
  {
   "cell_type": "markdown",
   "metadata": {},
   "source": [
    "### Exercise 1 - For\n",
    "\n",
    "If you find a way of solving any of these questions below without using for loop, don't hesitate to do it. "
   ]
  },
  {
   "cell_type": "markdown",
   "metadata": {},
   "source": [
    "1. Prints the numbers between 0 and 70 that are multiples of 3 and 5."
   ]
  },
  {
   "cell_type": "code",
   "execution_count": 34,
   "metadata": {},
   "outputs": [
    {
     "output_type": "stream",
     "name": "stdout",
     "text": [
      "0\n15\n30\n45\n60\n"
     ]
    }
   ],
   "source": [
    "for x in range(71):\n",
    "    if (x % 3 == 0) and (x % 5 == 0):\n",
    "        print(x)"
   ]
  },
  {
   "cell_type": "markdown",
   "metadata": {},
   "source": [
    "2. Print the following pattern:\n",
    "\n",
    "```python\n",
    "1\n",
    "22\n",
    "333\n",
    "4444\n",
    "55555\n",
    "666666\n",
    "7777777\n",
    "88888888\n",
    "999999999\n",
    "```\n"
   ]
  },
  {
   "cell_type": "code",
   "execution_count": 85,
   "metadata": {
    "tags": []
   },
   "outputs": [
    {
     "output_type": "stream",
     "name": "stdout",
     "text": [
      " \n1 \n22 \n333 \n4444 \n55555 \n666666 \n7777777 \n88888888 \n999999999 \n"
     ]
    }
   ],
   "source": [
    "lineas = 10\n",
    "for i in range(lineas):\n",
    "    for j in range(i):\n",
    "        print(i, end=\"\")  \n",
    "    print(\" \")\n",
    "    \n",
    "        \n"
   ]
  },
  {
   "cell_type": "markdown",
   "metadata": {
    "collapsed": true
   },
   "source": [
    "3. Given to list of same lenght, create a third list which contains the sum of both of the list, element by element. "
   ]
  },
  {
   "cell_type": "markdown",
   "metadata": {},
   "source": [
    "```python\n",
    "Example: \n",
    "a = [1,2]\n",
    "b = [4,5]\n",
    "new_list = [5,7]\n",
    "```\n"
   ]
  },
  {
   "cell_type": "code",
   "execution_count": 1,
   "metadata": {},
   "outputs": [
    {
     "output_type": "stream",
     "name": "stdout",
     "text": [
      "new_list =  [15, 12, 13]\n"
     ]
    }
   ],
   "source": [
    "a = [6, 9, 7]\n",
    "b = [9, 3, 6]\n",
    "\n",
    "for x, y in enumerate(a):\n",
    "    for z, w in enumerate(b):\n",
    "        if x == z:\n",
    "            if x == 0:\n",
    "                p1 = y + w\n",
    "            elif x ==1:\n",
    "                p2 = y + w\n",
    "            else:\n",
    "                p3 = y + w\n",
    "\n",
    "\n",
    "new_list = [p1, p2, p3]\n",
    "\n",
    "print(\"new_list = \", new_list)\n",
    "            \n",
    "    "
   ]
  },
  {
   "cell_type": "markdown",
   "metadata": {},
   "source": [
    "4. Get first, second best scores from the list.\n",
    "List contains duplicates."
   ]
  },
  {
   "cell_type": "code",
   "execution_count": 56,
   "metadata": {},
   "outputs": [
    {
     "output_type": "stream",
     "name": "stdout",
     "text": [
      "86 is the biggets value\n85 is the second biggest value\n"
     ]
    }
   ],
   "source": [
    "scores = [86,86,85,85,85,83,23,45,84,1,2,0]\n",
    "n = 0\n",
    "k = 0\n",
    "for x in scores:\n",
    "    if x <= n:\n",
    "        continue\n",
    "    else:\n",
    "        n = x\n",
    "    for y in scores:\n",
    "        if y == n:\n",
    "            continue\n",
    "        elif y >= k:\n",
    "            k = y\n",
    "\n",
    "print(n, \"is the biggets value\")\n",
    "print(k, \"is the second biggest value\")\n",
    "\n"
   ]
  },
  {
   "cell_type": "markdown",
   "metadata": {},
   "source": [
    "5. From the given list:\n",
    "    \n",
    "    a) Create separate lists of strings and numbers.\n",
    "\n",
    "    b) Sort the strings' list in ascending order\n",
    "\n",
    "    c) Sort the strings' list in descending order\n",
    "\n",
    "    d) Sort the number's list from lowest to highest\n",
    "\n",
    "    e) Sort the number's list from highest to lowest"
   ]
  },
  {
   "cell_type": "code",
   "execution_count": 103,
   "metadata": {},
   "outputs": [
    {
     "output_type": "stream",
     "name": "stdout",
     "text": [
      "Lista de tipos Str:  ['Mobile', 'Laptop', 'Camera', 'Speakers', 'Television', 'Laptop Case', 'Camera Lens']\nLista de tipos Num:  [100, 310.28, 27.0, 1000]\n['Camera', 'Camera Lens', 'Laptop', 'Laptop Case', 'Mobile', 'Speakers', 'Television']\n['Television', 'Speakers', 'Mobile', 'Laptop Case', 'Laptop', 'Camera Lens', 'Camera']\n[27.0, 100, 310.28, 1000]\n[1000, 310.28, 100, 27.0]\n"
     ]
    }
   ],
   "source": [
    "gadgets = [\"Mobile\", \"Laptop\", 100, \"Camera\", 310.28, \"Speakers\", 27.00, \n",
    "           \"Television\", 1000, \"Laptop Case\", \"Camera Lens\"]\n",
    "# Apartado a)\n",
    "\n",
    "list_str = []\n",
    "list_num = []\n",
    "\n",
    "for x in gadgets:\n",
    "    if type(x) == str:\n",
    "        list_str.append(x)    \n",
    "\n",
    "for x in gadgets:        \n",
    "    if type(x) == int or type(x) == float:\n",
    "        list_num.append(x)\n",
    "\n",
    "print(\"Lista de tipos Str: \", list_str)\n",
    "print(\"Lista de tipos Num: \", list_num)\n",
    "\n",
    "# Apartado b)\n",
    "\n",
    "list_str.sort()\n",
    "print(list_str)\n",
    "\n",
    "# Apartado c)\n",
    "\n",
    "list_str.sort(reverse = True)\n",
    "print(list_str)\n",
    "\n",
    "# Apartado d)\n",
    "\n",
    "list_num.sort()\n",
    "print(list_num)\n",
    "\n",
    "# Apartado e)\n",
    "\n",
    "list_num.sort(reverse = True)\n",
    "print(list_num)\n"
   ]
  },
  {
   "cell_type": "code",
   "execution_count": null,
   "metadata": {},
   "outputs": [],
   "source": []
  },
  {
   "cell_type": "markdown",
   "metadata": {},
   "source": [
    "6. Make a list of ten aliens, each of which is one color: 'red', 'green', or 'blue'.\n",
    "    - You can shorten this to 'r', 'g', and 'b' if you want, but if you choose this option you have to include a comment explaining what r, g, and b stand for.\n",
    "    - Red aliens are worth 5 points, green aliens are worth 10 points, and blue aliens are worth 20 points.\n",
    "    - Use a for loop to determine the number of points a player would earn for destroying all of the aliens in your list."
   ]
  },
  {
   "cell_type": "code",
   "execution_count": 2,
   "metadata": {},
   "outputs": [
    {
     "output_type": "stream",
     "name": "stdout",
     "text": [
      "105\n"
     ]
    }
   ],
   "source": [
    "aliens = [\"red\", \"blue\", \"blue\", \"green\", \"red\", \"red\",\"green\", \"red\", \"blue\", \"red\"]\n",
    "\n",
    "acum = 0\n",
    "\n",
    "for x in aliens:\n",
    "    if x == \"red\":\n",
    "        acum = acum + 5\n",
    "    elif x == \"green\":\n",
    "        acum = acum + 10\n",
    "    else:\n",
    "        acum = acum + 20\n",
    "\n",
    "print(acum)\n",
    "        \n"
   ]
  },
  {
   "cell_type": "markdown",
   "metadata": {},
   "source": [
    "### Exercise 2 - Functions"
   ]
  },
  {
   "cell_type": "markdown",
   "metadata": {},
   "source": [
    "1. Write a function program to sum up two given different numbers. "
   ]
  },
  {
   "cell_type": "code",
   "execution_count": 23,
   "metadata": {},
   "outputs": [
    {
     "output_type": "execute_result",
     "data": {
      "text/plain": [
       "8.2"
      ]
     },
     "metadata": {},
     "execution_count": 23
    }
   ],
   "source": [
    "# defino la suma y el return\n",
    "def sum_num(num_one, num_two):\n",
    "    return num_one + num_two\n",
    "\n",
    "sum_num(num_one = float(input()), num_two = float(input()))"
   ]
  },
  {
   "cell_type": "markdown",
   "metadata": {},
   "source": [
    "2. Write a Python program to convert a tuple of characters into a string.\n",
    "\n",
    "    - Sample tuple: `(\"T\", \"H\", \"E\", \" \", \"B\", \"R\", \"I\", \"D\", \"G\", \"E\")`\n",
    "    - Expected output : `\"THE BRIDGE\"`\n",
    "    \n",
    "Hint: Turn it into a list. "
   ]
  },
  {
   "cell_type": "code",
   "execution_count": 2,
   "metadata": {},
   "outputs": [
    {
     "output_type": "stream",
     "name": "stdout",
     "text": [
      "THE BRIDGE <class 'str'>\n"
     ]
    }
   ],
   "source": [
    "sample_tuple = (\"T\", \"H\", \"E\", \" \", \"B\", \"R\", \"I\", \"D\", \"G\", \"E\")\n",
    "\n",
    "def expected_output(sample_tuple):\n",
    "    sample_tuple = list(sample_tuple)\n",
    "\n",
    "    # El siguiente paso lo podría hacer también con un bucle\n",
    "\n",
    "    x = sample_tuple[0] + sample_tuple[1] + sample_tuple[2] + sample_tuple[3] + sample_tuple[4] + sample_tuple[5] + sample_tuple [6] + sample_tuple[7] +sample_tuple[8] + sample_tuple[9] \n",
    "\n",
    "    print(x, type(x))\n",
    "\n",
    "expected_output(sample_tuple)\n"
   ]
  },
  {
   "cell_type": "markdown",
   "metadata": {},
   "source": [
    "3. Write a Python program to generate a list where the values are square of numbers between 1 and 30 (both included), and return a list of first and last 5 elements of the list."
   ]
  },
  {
   "cell_type": "code",
   "execution_count": 52,
   "metadata": {},
   "outputs": [
    {
     "output_type": "stream",
     "name": "stdout",
     "text": [
      "Lista de números: [1, 2, 3, 4, 5, 6, 7, 8, 9, 10, 11, 12, 13, 14, 15, 16, 17, 18, 19, 20, 21, 22, 23, 24, 25, 26, 27, 28, 29, 30]\nLista cuadrados: [1, 4, 9, 16, 25, 36, 49, 64, 81, 100, 121, 144, 169, 196, 225, 256, 289, 324, 361, 400, 441, 484, 529, 576, 625, 676, 729, 784, 841, 900]\n5 primeros elementos: 1 4 9 16 25\n5 últimos elementos: 625 676 729 784 841 900\n"
     ]
    }
   ],
   "source": [
    "# Genero la lista de núemros del 1 al 30.\n",
    "\n",
    "numeros = [1]\n",
    "\n",
    "for x in numeros:\n",
    "    if x != 30:\n",
    "        numeros.append(x + 1)\n",
    "        \n",
    "    else:\n",
    "        break\n",
    "print(\"Lista de números:\",numeros, end=\"\")\n",
    "print(\"\")\n",
    "\n",
    "\n",
    "# Ahora genero la lista de cuadrados\n",
    "\n",
    "cuadrados = []\n",
    "\n",
    "for y in numeros:\n",
    "    cuadrados.append(y ** 2)\n",
    "\n",
    "print(\"Lista cuadrados:\", cuadrados, end=\"\")\n",
    "print(\"\")\n",
    "\n",
    "# Genero la funcion \n",
    "\n",
    "def final_lista(cuadrados):\n",
    "\n",
    "    print(\"5 primeros elementos:\", cuadrados[0], cuadrados[1], cuadrados[2], cuadrados[3], cuadrados[4])\n",
    "    print(\"5 últimos elementos:\",  cuadrados[24], cuadrados[25],cuadrados[26],cuadrados[27], cuadrados[28], cuadrados[29])\n",
    "    \n",
    "final_lista(cuadrados)\n"
   ]
  },
  {
   "cell_type": "markdown",
   "metadata": {},
   "source": [
    "4. Create a Python program that calculates the factorial of a number.\n",
    "\n",
    "The program will ask the user to enter a number (input) and will return the factorial of that number."
   ]
  },
  {
   "cell_type": "code",
   "execution_count": 57,
   "metadata": {},
   "outputs": [
    {
     "output_type": "execute_result",
     "data": {
      "text/plain": [
       "24"
      ]
     },
     "metadata": {},
     "execution_count": 57
    }
   ],
   "source": [
    "# Defino la función que haga el factorial.\n",
    "\n",
    "def factorial(p):\n",
    "    \"\"\"Esta función nos devolverá el factorial del número que le metamos\n",
    "    \"\"\"\n",
    "    acum = 1\n",
    "    for x in range(1,p + 1):\n",
    "        acum = x * acum\n",
    "    return acum\n",
    "\n",
    "factorial(p = int(input()))\n"
   ]
  },
  {
   "cell_type": "markdown",
   "metadata": {},
   "source": [
    "5. Create a program that calculates the average.\n",
    "\n",
    "The program will ask the user to specify how many numbers you want to enter, and will show a prompt to include number by number to a list, and then calculate the average of each number in that list."
   ]
  },
  {
   "cell_type": "code",
   "execution_count": 64,
   "metadata": {},
   "outputs": [
    {
     "output_type": "stream",
     "name": "stdout",
     "text": [
      "Su lista tendrá 6 números\n",
      "Su lista a promediar es: [5.0, 3.0, 5.0, 9.0, 6.0, 8.0]\n",
      "La media es: 6.0\n"
     ]
    }
   ],
   "source": [
    "def average():\n",
    "    \"\"\" Función que calcula la media de los valores que queramos meter\n",
    "    \"\"\"\n",
    "    average_numbers = [] # Lista vacía para empezar a trabajar\n",
    "\n",
    "    n = int(input(\"Números va a tener la lista:\")) # Introduzco de cuántos números se compondrá la lista\n",
    "    print(\"Su lista tendrá\", n, \"números\")\n",
    "\n",
    "    for t in range(n): \n",
    "        average_numbers.append(float(input()))  # Creo la lista de números\n",
    "    print(\"Su lista a promediar es:\", average_numbers)\n",
    "\n",
    "    c = sum(average_numbers)/n # Introduzco la expresión matemática para la media\n",
    "    print(\"La media es:\", c)\n",
    "average()"
   ]
  },
  {
   "cell_type": "markdown",
   "metadata": {},
   "source": [
    "# If you made it till here you did a fantastic work!"
   ]
  },
  {
   "cell_type": "markdown",
   "metadata": {},
   "source": [
    "![\"holo\"](https://img-9gag-fun.9cache.com/photo/aNg9wMK_460s.jpg)"
   ]
  },
  {
   "cell_type": "code",
   "execution_count": null,
   "metadata": {},
   "outputs": [],
   "source": []
  }
 ],
 "metadata": {
  "kernelspec": {
   "display_name": "Python 3",
   "language": "python",
   "name": "python3"
  },
  "language_info": {
   "codemirror_mode": {
    "name": "ipython",
    "version": 3
   },
   "file_extension": ".py",
   "mimetype": "text/x-python",
   "name": "python",
   "nbconvert_exporter": "python",
   "pygments_lexer": "ipython3",
   "version": "3.8.3-final"
  }
 },
 "nbformat": 4,
 "nbformat_minor": 4
}